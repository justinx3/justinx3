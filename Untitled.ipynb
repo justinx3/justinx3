{
 "cells": [
  {
   "cell_type": "code",
   "execution_count": 2,
   "id": "b96c83bd",
   "metadata": {},
   "outputs": [],
   "source": [
    "#open file in reading mode\n",
    "\n"
   ]
  },
  {
   "cell_type": "code",
   "execution_count": 11,
   "id": "f9dd76cd",
   "metadata": {},
   "outputs": [],
   "source": [
    "f = open('chikku.txt','r')"
   ]
  },
  {
   "cell_type": "code",
   "execution_count": 12,
   "id": "4e70d74d",
   "metadata": {},
   "outputs": [],
   "source": [
    "text=f.readlines()"
   ]
  },
  {
   "cell_type": "code",
   "execution_count": 13,
   "id": "55f9375a",
   "metadata": {},
   "outputs": [
    {
     "name": "stdout",
     "output_type": "stream",
     "text": [
      "['learning python is fun.\\n', 'python is a highh level programming language.\\n', 'python can be used to create web application.']\n"
     ]
    }
   ],
   "source": [
    "print(text)"
   ]
  },
  {
   "cell_type": "code",
   "execution_count": 17,
   "id": "87734302",
   "metadata": {},
   "outputs": [
    {
     "name": "stdout",
     "output_type": "stream",
     "text": [
      "learning python is fun.\n",
      "python is a highh level programming language.\n",
      "python can be used to create web application.\n"
     ]
    }
   ],
   "source": [
    "f = open('chikku.txt','r')\n",
    "ftext = f.read()\n",
    "print(ftext)"
   ]
  },
  {
   "cell_type": "code",
   "execution_count": 1,
   "id": "207f8ff9",
   "metadata": {},
   "outputs": [
    {
     "name": "stdout",
     "output_type": "stream",
     "text": [
      "['learning python is fun.\\n']\n"
     ]
    }
   ],
   "source": [
    "f = open('chikku.txt','r')\n",
    "print(f.readlines(1))"
   ]
  },
  {
   "cell_type": "code",
   "execution_count": 3,
   "id": "03440bf4",
   "metadata": {},
   "outputs": [
    {
     "name": "stdout",
     "output_type": "stream",
     "text": [
      "[['learning', 'python', 'is', 'fun.'], ['python', 'is', 'a', 'highh', 'level', 'programming', 'language.'], ['python', 'can', 'be', 'used', 'to', 'create', 'web', 'application.']]\n"
     ]
    }
   ],
   "source": [
    "#printing each line as a list\n",
    "a = open('chikku.txt','r')\n",
    "b = a.readlines()\n",
    "list1=[]\n",
    "for i in b:\n",
    "    x=i.strip()\n",
    "    x=x.split()\n",
    "    list1.append(x)\n",
    "print(list1)"
   ]
  },
  {
   "cell_type": "code",
   "execution_count": 6,
   "id": "24314e45",
   "metadata": {},
   "outputs": [
    {
     "name": "stdout",
     "output_type": "stream",
     "text": [
      "3\n"
     ]
    }
   ],
   "source": [
    "a = open('chikku.txt','r')\n",
    "b = a.readlines()\n",
    "list1=[]\n",
    "count=0\n",
    "for i in b:\n",
    "    x=i.strip()\n",
    "    x=x.split()\n",
    "    for j in x:\n",
    "        if j=='python' or j=='python':\n",
    "            count+=1\n",
    "print(count)"
   ]
  },
  {
   "cell_type": "code",
   "execution_count": 7,
   "id": "6bc13f2f",
   "metadata": {},
   "outputs": [],
   "source": [
    "#creting a file in write mode\n",
    "file=open('write.txt','w')\n",
    "file.write('python is an object oriented programming language')\n",
    "file.close()"
   ]
  },
  {
   "cell_type": "code",
   "execution_count": 3,
   "id": "08cd2136",
   "metadata": {},
   "outputs": [],
   "source": [
    "f=open('cat.jpg','rb')"
   ]
  },
  {
   "cell_type": "code",
   "execution_count": 5,
   "id": "b43d54de",
   "metadata": {},
   "outputs": [],
   "source": [
    "f1=open('python.jpg','wb')\n",
    "for i in f:\n",
    "    f1.write(i)"
   ]
  },
  {
   "cell_type": "code",
   "execution_count": null,
   "id": "2b231bcb",
   "metadata": {},
   "outputs": [],
   "source": []
  }
 ],
 "metadata": {
  "kernelspec": {
   "display_name": "Python 3 (ipykernel)",
   "language": "python",
   "name": "python3"
  },
  "language_info": {
   "codemirror_mode": {
    "name": "ipython",
    "version": 3
   },
   "file_extension": ".py",
   "mimetype": "text/x-python",
   "name": "python",
   "nbconvert_exporter": "python",
   "pygments_lexer": "ipython3",
   "version": "3.9.13"
  }
 },
 "nbformat": 4,
 "nbformat_minor": 5
}
