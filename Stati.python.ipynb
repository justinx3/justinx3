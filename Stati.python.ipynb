{
 "cells": [
  {
   "cell_type": "code",
   "execution_count": 1,
   "id": "4dd1d20b",
   "metadata": {},
   "outputs": [
    {
     "name": "stdout",
     "output_type": "stream",
     "text": [
      "48.5\n"
     ]
    }
   ],
   "source": [
    "data=[23,14,56,76,32,90]\n",
    "mean_ungrouped = sum(data)/len(data)\n",
    "print(mean_ungrouped)"
   ]
  },
  {
   "cell_type": "code",
   "execution_count": null,
   "id": "9e092563",
   "metadata": {},
   "outputs": [],
   "source": [
    "f = [,8,10,6,3]\n",
    "x = [12,15,10,9,11]\n"
   ]
  }
 ],
 "metadata": {
  "kernelspec": {
   "display_name": "Python 3 (ipykernel)",
   "language": "python",
   "name": "python3"
  },
  "language_info": {
   "codemirror_mode": {
    "name": "ipython",
    "version": 3
   },
   "file_extension": ".py",
   "mimetype": "text/x-python",
   "name": "python",
   "nbconvert_exporter": "python",
   "pygments_lexer": "ipython3",
   "version": "3.9.13"
  }
 },
 "nbformat": 4,
 "nbformat_minor": 5
}
