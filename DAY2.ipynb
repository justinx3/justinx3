{
 "cells": [
  {
   "cell_type": "raw",
   "id": "88bf4a4c",
   "metadata": {},
   "source": [
    "# RELATIONAL OPERATORS"
   ]
  },
  {
   "cell_type": "code",
   "execution_count": 1,
   "id": "888b3e97",
   "metadata": {},
   "outputs": [],
   "source": [
    "a=10\n",
    "b=8"
   ]
  },
  {
   "cell_type": "code",
   "execution_count": 2,
   "id": "10ce6314",
   "metadata": {},
   "outputs": [
    {
     "data": {
      "text/plain": [
       "True"
      ]
     },
     "execution_count": 2,
     "metadata": {},
     "output_type": "execute_result"
    }
   ],
   "source": [
    "a>b"
   ]
  },
  {
   "cell_type": "code",
   "execution_count": 3,
   "id": "6115799f",
   "metadata": {},
   "outputs": [
    {
     "data": {
      "text/plain": [
       "False"
      ]
     },
     "execution_count": 3,
     "metadata": {},
     "output_type": "execute_result"
    }
   ],
   "source": [
    "a<b"
   ]
  },
  {
   "cell_type": "code",
   "execution_count": 4,
   "id": "d39cb6a3",
   "metadata": {},
   "outputs": [
    {
     "data": {
      "text/plain": [
       "True"
      ]
     },
     "execution_count": 4,
     "metadata": {},
     "output_type": "execute_result"
    }
   ],
   "source": [
    "a!=b"
   ]
  },
  {
   "cell_type": "code",
   "execution_count": 5,
   "id": "a6ed0151",
   "metadata": {},
   "outputs": [
    {
     "data": {
      "text/plain": [
       "True"
      ]
     },
     "execution_count": 5,
     "metadata": {},
     "output_type": "execute_result"
    }
   ],
   "source": [
    "a>=b"
   ]
  },
  {
   "cell_type": "code",
   "execution_count": 6,
   "id": "5c05ffbb",
   "metadata": {},
   "outputs": [
    {
     "data": {
      "text/plain": [
       "False"
      ]
     },
     "execution_count": 6,
     "metadata": {},
     "output_type": "execute_result"
    }
   ],
   "source": [
    "a<=b"
   ]
  },
  {
   "cell_type": "code",
   "execution_count": 7,
   "id": "1bfb6c14",
   "metadata": {},
   "outputs": [
    {
     "data": {
      "text/plain": [
       "False"
      ]
     },
     "execution_count": 7,
     "metadata": {},
     "output_type": "execute_result"
    }
   ],
   "source": [
    "a==b"
   ]
  },
  {
   "cell_type": "code",
   "execution_count": null,
   "id": "87136b92",
   "metadata": {},
   "outputs": [],
   "source": []
  },
  {
   "cell_type": "markdown",
   "id": "e965cf4b",
   "metadata": {},
   "source": [
    "# LOGICAL OPERATORS"
   ]
  },
  {
   "cell_type": "code",
   "execution_count": 8,
   "id": "45967dff",
   "metadata": {},
   "outputs": [
    {
     "data": {
      "text/plain": [
       "True"
      ]
     },
     "execution_count": 8,
     "metadata": {},
     "output_type": "execute_result"
    }
   ],
   "source": [
    "a==10 and b==8"
   ]
  },
  {
   "cell_type": "code",
   "execution_count": 9,
   "id": "053fd048",
   "metadata": {},
   "outputs": [
    {
     "data": {
      "text/plain": [
       "False"
      ]
     },
     "execution_count": 9,
     "metadata": {},
     "output_type": "execute_result"
    }
   ],
   "source": [
    "a==10 and b==3"
   ]
  },
  {
   "cell_type": "code",
   "execution_count": 10,
   "id": "e0cd75b7",
   "metadata": {},
   "outputs": [
    {
     "data": {
      "text/plain": [
       "True"
      ]
     },
     "execution_count": 10,
     "metadata": {},
     "output_type": "execute_result"
    }
   ],
   "source": [
    "a==10 or b==8"
   ]
  },
  {
   "cell_type": "code",
   "execution_count": 11,
   "id": "c412b837",
   "metadata": {},
   "outputs": [
    {
     "data": {
      "text/plain": [
       "True"
      ]
     },
     "execution_count": 11,
     "metadata": {},
     "output_type": "execute_result"
    }
   ],
   "source": [
    "a==10 or b==3"
   ]
  },
  {
   "cell_type": "code",
   "execution_count": 12,
   "id": "43b9ddcb",
   "metadata": {},
   "outputs": [
    {
     "data": {
      "text/plain": [
       "False"
      ]
     },
     "execution_count": 12,
     "metadata": {},
     "output_type": "execute_result"
    }
   ],
   "source": [
    "a==2 or b==3"
   ]
  },
  {
   "cell_type": "code",
   "execution_count": 13,
   "id": "55908d53",
   "metadata": {},
   "outputs": [
    {
     "data": {
      "text/plain": [
       "True"
      ]
     },
     "execution_count": 13,
     "metadata": {},
     "output_type": "execute_result"
    }
   ],
   "source": [
    "not a==5"
   ]
  },
  {
   "cell_type": "code",
   "execution_count": 14,
   "id": "1df00b8e",
   "metadata": {},
   "outputs": [
    {
     "data": {
      "text/plain": [
       "False"
      ]
     },
     "execution_count": 14,
     "metadata": {},
     "output_type": "execute_result"
    }
   ],
   "source": [
    "not a==10"
   ]
  },
  {
   "cell_type": "markdown",
   "id": "7c1e3b72",
   "metadata": {},
   "source": [
    "# BITWISE OPERATORS"
   ]
  },
  {
   "cell_type": "code",
   "execution_count": 15,
   "id": "26667308",
   "metadata": {},
   "outputs": [],
   "source": [
    "x=5\n",
    "y=3"
   ]
  },
  {
   "cell_type": "code",
   "execution_count": 16,
   "id": "8676c6a7",
   "metadata": {},
   "outputs": [
    {
     "data": {
      "text/plain": [
       "1"
      ]
     },
     "execution_count": 16,
     "metadata": {},
     "output_type": "execute_result"
    }
   ],
   "source": [
    "x&y"
   ]
  },
  {
   "cell_type": "code",
   "execution_count": 17,
   "id": "2353597b",
   "metadata": {},
   "outputs": [
    {
     "data": {
      "text/plain": [
       "8"
      ]
     },
     "execution_count": 17,
     "metadata": {},
     "output_type": "execute_result"
    }
   ],
   "source": [
    "10&12"
   ]
  },
  {
   "cell_type": "code",
   "execution_count": 18,
   "id": "7b10dfd3",
   "metadata": {},
   "outputs": [
    {
     "data": {
      "text/plain": [
       "14"
      ]
     },
     "execution_count": 18,
     "metadata": {},
     "output_type": "execute_result"
    }
   ],
   "source": [
    "10|12"
   ]
  },
  {
   "cell_type": "code",
   "execution_count": 19,
   "id": "b67a81b3",
   "metadata": {},
   "outputs": [
    {
     "data": {
      "text/plain": [
       "-11"
      ]
     },
     "execution_count": 19,
     "metadata": {},
     "output_type": "execute_result"
    }
   ],
   "source": [
    "x=10\n",
    "~x"
   ]
  },
  {
   "cell_type": "code",
   "execution_count": 20,
   "id": "9a74d69a",
   "metadata": {},
   "outputs": [
    {
     "data": {
      "text/plain": [
       "6"
      ]
     },
     "execution_count": 20,
     "metadata": {},
     "output_type": "execute_result"
    }
   ],
   "source": [
    "10^12"
   ]
  },
  {
   "cell_type": "code",
   "execution_count": 21,
   "id": "709e9eb8",
   "metadata": {},
   "outputs": [
    {
     "data": {
      "text/plain": [
       "2"
      ]
     },
     "execution_count": 21,
     "metadata": {},
     "output_type": "execute_result"
    }
   ],
   "source": [
    "x>>2"
   ]
  },
  {
   "cell_type": "code",
   "execution_count": 22,
   "id": "6034ed6e",
   "metadata": {},
   "outputs": [
    {
     "data": {
      "text/plain": [
       "40"
      ]
     },
     "execution_count": 22,
     "metadata": {},
     "output_type": "execute_result"
    }
   ],
   "source": [
    "x<<2"
   ]
  },
  {
   "cell_type": "markdown",
   "id": "705bcf33",
   "metadata": {},
   "source": [
    "# ASSIGNMENT OPERATORS"
   ]
  },
  {
   "cell_type": "code",
   "execution_count": 23,
   "id": "55d0fb59",
   "metadata": {},
   "outputs": [],
   "source": [
    "a=5"
   ]
  },
  {
   "cell_type": "code",
   "execution_count": 24,
   "id": "9dfb30cb",
   "metadata": {},
   "outputs": [],
   "source": [
    "a+=5"
   ]
  },
  {
   "cell_type": "code",
   "execution_count": 25,
   "id": "1d8c823d",
   "metadata": {},
   "outputs": [
    {
     "data": {
      "text/plain": [
       "10"
      ]
     },
     "execution_count": 25,
     "metadata": {},
     "output_type": "execute_result"
    }
   ],
   "source": [
    "a"
   ]
  },
  {
   "cell_type": "code",
   "execution_count": 26,
   "id": "60543dfa",
   "metadata": {},
   "outputs": [],
   "source": [
    "a-=3"
   ]
  },
  {
   "cell_type": "markdown",
   "id": "f5c39f5d",
   "metadata": {},
   "source": [
    "# LIST"
   ]
  },
  {
   "cell_type": "code",
   "execution_count": 27,
   "id": "5619ebcc",
   "metadata": {},
   "outputs": [],
   "source": [
    "list1=['cat','dog','elephant','lion','hen','cow']"
   ]
  },
  {
   "cell_type": "code",
   "execution_count": 28,
   "id": "bf2e3168",
   "metadata": {},
   "outputs": [
    {
     "data": {
      "text/plain": [
       "list"
      ]
     },
     "execution_count": 28,
     "metadata": {},
     "output_type": "execute_result"
    }
   ],
   "source": [
    "type(list1)"
   ]
  },
  {
   "cell_type": "code",
   "execution_count": 29,
   "id": "d9ea2986",
   "metadata": {},
   "outputs": [],
   "source": [
    "list1.append('goat')"
   ]
  },
  {
   "cell_type": "code",
   "execution_count": 30,
   "id": "0017a05f",
   "metadata": {},
   "outputs": [
    {
     "data": {
      "text/plain": [
       "['cat', 'dog', 'elephant', 'lion', 'hen', 'cow', 'goat']"
      ]
     },
     "execution_count": 30,
     "metadata": {},
     "output_type": "execute_result"
    }
   ],
   "source": [
    "list1"
   ]
  },
  {
   "cell_type": "code",
   "execution_count": 31,
   "id": "3a992b8d",
   "metadata": {},
   "outputs": [
    {
     "data": {
      "text/plain": [
       "'lion'"
      ]
     },
     "execution_count": 31,
     "metadata": {},
     "output_type": "execute_result"
    }
   ],
   "source": [
    "list1[3]"
   ]
  },
  {
   "cell_type": "code",
   "execution_count": 32,
   "id": "f93c582b",
   "metadata": {},
   "outputs": [
    {
     "data": {
      "text/plain": [
       "'hen'"
      ]
     },
     "execution_count": 32,
     "metadata": {},
     "output_type": "execute_result"
    }
   ],
   "source": [
    "list1[-3]"
   ]
  },
  {
   "cell_type": "code",
   "execution_count": 33,
   "id": "2fd4ab59",
   "metadata": {},
   "outputs": [],
   "source": [
    "list1.insert(3,'tiger')"
   ]
  },
  {
   "cell_type": "code",
   "execution_count": 34,
   "id": "371d099c",
   "metadata": {},
   "outputs": [
    {
     "data": {
      "text/plain": [
       "['cat', 'dog', 'elephant', 'tiger', 'lion', 'hen', 'cow', 'goat']"
      ]
     },
     "execution_count": 34,
     "metadata": {},
     "output_type": "execute_result"
    }
   ],
   "source": [
    "list1"
   ]
  },
  {
   "cell_type": "code",
   "execution_count": 35,
   "id": "8a2b3e0b",
   "metadata": {},
   "outputs": [
    {
     "data": {
      "text/plain": [
       "'goat'"
      ]
     },
     "execution_count": 35,
     "metadata": {},
     "output_type": "execute_result"
    }
   ],
   "source": [
    "list1.pop()"
   ]
  },
  {
   "cell_type": "code",
   "execution_count": 36,
   "id": "4702fc22",
   "metadata": {},
   "outputs": [
    {
     "data": {
      "text/plain": [
       "['cat', 'dog', 'elephant', 'tiger', 'lion', 'hen', 'cow']"
      ]
     },
     "execution_count": 36,
     "metadata": {},
     "output_type": "execute_result"
    }
   ],
   "source": [
    "list1"
   ]
  },
  {
   "cell_type": "code",
   "execution_count": 37,
   "id": "12144f78",
   "metadata": {},
   "outputs": [
    {
     "data": {
      "text/plain": [
       "'elephant'"
      ]
     },
     "execution_count": 37,
     "metadata": {},
     "output_type": "execute_result"
    }
   ],
   "source": [
    "list1.pop(2)"
   ]
  },
  {
   "cell_type": "code",
   "execution_count": 38,
   "id": "8e34eea9",
   "metadata": {},
   "outputs": [],
   "source": [
    "list1.sort()"
   ]
  },
  {
   "cell_type": "code",
   "execution_count": 39,
   "id": "06109eb8",
   "metadata": {},
   "outputs": [
    {
     "data": {
      "text/plain": [
       "['cat', 'cow', 'dog', 'hen', 'lion', 'tiger']"
      ]
     },
     "execution_count": 39,
     "metadata": {},
     "output_type": "execute_result"
    }
   ],
   "source": [
    "list1"
   ]
  },
  {
   "cell_type": "code",
   "execution_count": 40,
   "id": "7ce0b537",
   "metadata": {},
   "outputs": [],
   "source": [
    "list1.sort(reverse=True)"
   ]
  },
  {
   "cell_type": "code",
   "execution_count": 41,
   "id": "d9fa83f7",
   "metadata": {},
   "outputs": [
    {
     "data": {
      "text/plain": [
       "['tiger', 'lion', 'hen', 'dog', 'cow', 'cat']"
      ]
     },
     "execution_count": 41,
     "metadata": {},
     "output_type": "execute_result"
    }
   ],
   "source": [
    "list1"
   ]
  },
  {
   "cell_type": "code",
   "execution_count": 42,
   "id": "dde0e524",
   "metadata": {},
   "outputs": [],
   "source": [
    "list2=[4,8,1,7,9]"
   ]
  },
  {
   "cell_type": "code",
   "execution_count": 43,
   "id": "83026abb",
   "metadata": {},
   "outputs": [],
   "source": [
    "list2.sort()"
   ]
  },
  {
   "cell_type": "code",
   "execution_count": 44,
   "id": "667f1707",
   "metadata": {},
   "outputs": [
    {
     "data": {
      "text/plain": [
       "[1, 4, 7, 8, 9]"
      ]
     },
     "execution_count": 44,
     "metadata": {},
     "output_type": "execute_result"
    }
   ],
   "source": [
    "list2"
   ]
  },
  {
   "cell_type": "code",
   "execution_count": 45,
   "id": "9dacab9b",
   "metadata": {},
   "outputs": [],
   "source": [
    "list2.sort(reverse=True)"
   ]
  },
  {
   "cell_type": "code",
   "execution_count": 46,
   "id": "8bd324e8",
   "metadata": {},
   "outputs": [
    {
     "data": {
      "text/plain": [
       "[9, 8, 7, 4, 1]"
      ]
     },
     "execution_count": 46,
     "metadata": {},
     "output_type": "execute_result"
    }
   ],
   "source": [
    "list2"
   ]
  },
  {
   "cell_type": "code",
   "execution_count": 47,
   "id": "ff8463b5",
   "metadata": {},
   "outputs": [],
   "source": [
    "list3=['apple','orange',1,21,'kiwi',5,'banana',5.3]"
   ]
  },
  {
   "cell_type": "code",
   "execution_count": 48,
   "id": "3bb6b6d4",
   "metadata": {},
   "outputs": [
    {
     "data": {
      "text/plain": [
       "5"
      ]
     },
     "execution_count": 48,
     "metadata": {},
     "output_type": "execute_result"
    }
   ],
   "source": [
    "list3[5]"
   ]
  },
  {
   "cell_type": "code",
   "execution_count": 49,
   "id": "06a30e22",
   "metadata": {},
   "outputs": [
    {
     "data": {
      "text/plain": [
       "5.3"
      ]
     },
     "execution_count": 49,
     "metadata": {},
     "output_type": "execute_result"
    }
   ],
   "source": [
    "list3[7]"
   ]
  },
  {
   "cell_type": "code",
   "execution_count": 50,
   "id": "bb9dc25d",
   "metadata": {},
   "outputs": [
    {
     "data": {
      "text/plain": [
       "list"
      ]
     },
     "execution_count": 50,
     "metadata": {},
     "output_type": "execute_result"
    }
   ],
   "source": [
    "type(list3)"
   ]
  },
  {
   "cell_type": "markdown",
   "id": "650f83c9",
   "metadata": {},
   "source": [
    "# TUPLES"
   ]
  },
  {
   "cell_type": "code",
   "execution_count": 51,
   "id": "503eb338",
   "metadata": {},
   "outputs": [],
   "source": [
    "t1=('cat','dog','hen',1,3,'apple')"
   ]
  },
  {
   "cell_type": "code",
   "execution_count": 52,
   "id": "c4a99b4d",
   "metadata": {},
   "outputs": [
    {
     "data": {
      "text/plain": [
       "tuple"
      ]
     },
     "execution_count": 52,
     "metadata": {},
     "output_type": "execute_result"
    }
   ],
   "source": [
    "type(t1)"
   ]
  },
  {
   "cell_type": "code",
   "execution_count": 53,
   "id": "ad7333bf",
   "metadata": {},
   "outputs": [
    {
     "data": {
      "text/plain": [
       "3"
      ]
     },
     "execution_count": 53,
     "metadata": {},
     "output_type": "execute_result"
    }
   ],
   "source": [
    "t1[4]"
   ]
  },
  {
   "cell_type": "code",
   "execution_count": 54,
   "id": "d2197040",
   "metadata": {},
   "outputs": [],
   "source": [
    "t1=([1,2,3],[8,9],[8,0,9,7])"
   ]
  },
  {
   "cell_type": "code",
   "execution_count": 55,
   "id": "333e9d54",
   "metadata": {},
   "outputs": [
    {
     "data": {
      "text/plain": [
       "[8, 0, 9, 7]"
      ]
     },
     "execution_count": 55,
     "metadata": {},
     "output_type": "execute_result"
    }
   ],
   "source": [
    "t1[2]"
   ]
  },
  {
   "cell_type": "code",
   "execution_count": 56,
   "id": "1d00973d",
   "metadata": {},
   "outputs": [
    {
     "data": {
      "text/plain": [
       "9"
      ]
     },
     "execution_count": 56,
     "metadata": {},
     "output_type": "execute_result"
    }
   ],
   "source": [
    "t1[2][2]"
   ]
  },
  {
   "cell_type": "markdown",
   "id": "185dd459",
   "metadata": {},
   "source": [
    "# DICTIONARIES"
   ]
  },
  {
   "cell_type": "code",
   "execution_count": 57,
   "id": "b5ae28ed",
   "metadata": {},
   "outputs": [],
   "source": [
    "d1={'ALFRED':25,'ADITHYAN':28,'AIRENE':32,'MALAVIKA':12,'ASWIN':20}"
   ]
  },
  {
   "cell_type": "code",
   "execution_count": 58,
   "id": "80fc360f",
   "metadata": {},
   "outputs": [
    {
     "data": {
      "text/plain": [
       "12"
      ]
     },
     "execution_count": 58,
     "metadata": {},
     "output_type": "execute_result"
    }
   ],
   "source": [
    "d1['MALAVIKA']"
   ]
  },
  {
   "cell_type": "code",
   "execution_count": 59,
   "id": "5e0d9028",
   "metadata": {},
   "outputs": [],
   "source": [
    "d1['MALAVIKA']=20"
   ]
  },
  {
   "cell_type": "code",
   "execution_count": 60,
   "id": "e5e3f77b",
   "metadata": {},
   "outputs": [
    {
     "data": {
      "text/plain": [
       "{'ALFRED': 25, 'ADITHYAN': 28, 'AIRENE': 32, 'MALAVIKA': 20, 'ASWIN': 20}"
      ]
     },
     "execution_count": 60,
     "metadata": {},
     "output_type": "execute_result"
    }
   ],
   "source": [
    "d1"
   ]
  },
  {
   "cell_type": "code",
   "execution_count": 61,
   "id": "ff985885",
   "metadata": {},
   "outputs": [],
   "source": [
    "d2={'ram':[3,4,5],'raj':[7,9,20],'pp':[8,3,5]}"
   ]
  },
  {
   "cell_type": "code",
   "execution_count": 62,
   "id": "d3c917cc",
   "metadata": {},
   "outputs": [
    {
     "data": {
      "text/plain": [
       "[7, 9, 20]"
      ]
     },
     "execution_count": 62,
     "metadata": {},
     "output_type": "execute_result"
    }
   ],
   "source": [
    "d2['raj']"
   ]
  },
  {
   "cell_type": "code",
   "execution_count": 63,
   "id": "b85ae315",
   "metadata": {},
   "outputs": [],
   "source": [
    "d2['raj']=[1,2,3]"
   ]
  },
  {
   "cell_type": "code",
   "execution_count": 64,
   "id": "31a973b4",
   "metadata": {},
   "outputs": [
    {
     "data": {
      "text/plain": [
       "{'ram': [3, 4, 5], 'raj': [1, 2, 3], 'pp': [8, 3, 5]}"
      ]
     },
     "execution_count": 64,
     "metadata": {},
     "output_type": "execute_result"
    }
   ],
   "source": [
    "d2"
   ]
  },
  {
   "cell_type": "code",
   "execution_count": 65,
   "id": "8b9e6b2f",
   "metadata": {},
   "outputs": [],
   "source": [
    "d2['raj'][1]=20"
   ]
  },
  {
   "cell_type": "code",
   "execution_count": 66,
   "id": "6176bb67",
   "metadata": {},
   "outputs": [
    {
     "data": {
      "text/plain": [
       "{'ram': [3, 4, 5], 'raj': [1, 20, 3], 'pp': [8, 3, 5]}"
      ]
     },
     "execution_count": 66,
     "metadata": {},
     "output_type": "execute_result"
    }
   ],
   "source": [
    "d2"
   ]
  },
  {
   "cell_type": "markdown",
   "id": "337698d9",
   "metadata": {},
   "source": [
    "# PROGRAM FLOW CONTROL"
   ]
  },
  {
   "cell_type": "markdown",
   "id": "fa100cea",
   "metadata": {},
   "source": [
    "# CONDITIONAL STATEMENT"
   ]
  },
  {
   "cell_type": "code",
   "execution_count": 67,
   "id": "00aca796",
   "metadata": {},
   "outputs": [
    {
     "name": "stdout",
     "output_type": "stream",
     "text": [
      "pass\n"
     ]
    }
   ],
   "source": [
    "mark=81\n",
    "if mark>80:\n",
    "    print('pass')"
   ]
  },
  {
   "cell_type": "code",
   "execution_count": 14,
   "id": "8e222520",
   "metadata": {},
   "outputs": [
    {
     "name": "stdout",
     "output_type": "stream",
     "text": [
      "Enter the marks56\n",
      "fail\n"
     ]
    }
   ],
   "source": [
    "marks=int(input('Enter the marks'))\n",
    "if marks>80:\n",
    "    print('pass')\n",
    "else:\n",
    "    print('fail')"
   ]
  },
  {
   "cell_type": "code",
   "execution_count": 17,
   "id": "a5a17ab7",
   "metadata": {},
   "outputs": [
    {
     "name": "stdout",
     "output_type": "stream",
     "text": [
      "Enter the marks22\n"
     ]
    },
    {
     "ename": "NameError",
     "evalue": "name 'e' is not defined",
     "output_type": "error",
     "traceback": [
      "\u001b[1;31m---------------------------------------------------------------------------\u001b[0m",
      "\u001b[1;31mNameError\u001b[0m                                 Traceback (most recent call last)",
      "\u001b[1;32m~\\AppData\\Local\\Temp\\ipykernel_7384\\4184497127.py\u001b[0m in \u001b[0;36m<module>\u001b[1;34m\u001b[0m\n\u001b[0;32m      1\u001b[0m \u001b[0mn\u001b[0m\u001b[1;33m=\u001b[0m\u001b[0mint\u001b[0m\u001b[1;33m(\u001b[0m\u001b[0minput\u001b[0m\u001b[1;33m(\u001b[0m\u001b[1;34m'Enter the marks'\u001b[0m\u001b[1;33m)\u001b[0m\u001b[1;33m)\u001b[0m\u001b[1;33m\u001b[0m\u001b[1;33m\u001b[0m\u001b[0m\n\u001b[1;32m----> 2\u001b[1;33m \u001b[1;32mif\u001b[0m \u001b[1;33m(\u001b[0m\u001b[0me\u001b[0m\u001b[1;33m%\u001b[0m\u001b[1;36m2\u001b[0m\u001b[1;33m==\u001b[0m\u001b[1;36m0\u001b[0m\u001b[1;33m)\u001b[0m\u001b[1;33m:\u001b[0m\u001b[1;33m\u001b[0m\u001b[1;33m\u001b[0m\u001b[0m\n\u001b[0m\u001b[0;32m      3\u001b[0m     \u001b[0mprint\u001b[0m\u001b[1;33m(\u001b[0m\u001b[1;34m'num is even'\u001b[0m\u001b[1;33m)\u001b[0m\u001b[1;33m\u001b[0m\u001b[1;33m\u001b[0m\u001b[0m\n\u001b[0;32m      4\u001b[0m \u001b[1;32melse\u001b[0m\u001b[1;33m:\u001b[0m\u001b[1;33m\u001b[0m\u001b[1;33m\u001b[0m\u001b[0m\n\u001b[0;32m      5\u001b[0m     \u001b[0mprint\u001b[0m\u001b[1;33m(\u001b[0m\u001b[1;34m'num is odd'\u001b[0m\u001b[1;33m)\u001b[0m\u001b[1;33m\u001b[0m\u001b[1;33m\u001b[0m\u001b[0m\n",
      "\u001b[1;31mNameError\u001b[0m: name 'e' is not defined"
     ]
    }
   ],
   "source": [
    "n=int(input('Enter the marks'))\n",
    "if (e%2==0):\n",
    "    print('num is even')\n",
    "else:\n",
    "    print('num is odd')"
   ]
  },
  {
   "cell_type": "code",
   "execution_count": 18,
   "id": "1ec2c7b9",
   "metadata": {},
   "outputs": [
    {
     "ename": "KeyboardInterrupt",
     "evalue": "Interrupted by user",
     "output_type": "error",
     "traceback": [
      "\u001b[1;31m---------------------------------------------------------------------------\u001b[0m",
      "\u001b[1;31mKeyboardInterrupt\u001b[0m                         Traceback (most recent call last)",
      "\u001b[1;32m~\\AppData\\Local\\Temp\\ipykernel_7384\\3179867573.py\u001b[0m in \u001b[0;36m<module>\u001b[1;34m\u001b[0m\n\u001b[1;32m----> 1\u001b[1;33m \u001b[0mx\u001b[0m\u001b[1;33m=\u001b[0m\u001b[0mint\u001b[0m\u001b[1;33m(\u001b[0m\u001b[0minput\u001b[0m\u001b[1;33m(\u001b[0m\u001b[1;34m'enter the firt number'\u001b[0m\u001b[1;33m)\u001b[0m\u001b[1;33m)\u001b[0m\u001b[1;33m\u001b[0m\u001b[1;33m\u001b[0m\u001b[0m\n\u001b[0m\u001b[0;32m      2\u001b[0m \u001b[0my\u001b[0m\u001b[1;33m=\u001b[0m\u001b[0mint\u001b[0m\u001b[1;33m(\u001b[0m\u001b[0minput\u001b[0m\u001b[1;33m(\u001b[0m\u001b[1;34m'enter the second number'\u001b[0m\u001b[1;33m)\u001b[0m\u001b[1;33m)\u001b[0m\u001b[1;33m\u001b[0m\u001b[1;33m\u001b[0m\u001b[0m\n\u001b[0;32m      3\u001b[0m \u001b[1;32mif\u001b[0m\u001b[1;33m(\u001b[0m\u001b[0mx\u001b[0m\u001b[1;33m>\u001b[0m\u001b[0my\u001b[0m\u001b[1;33m)\u001b[0m\u001b[1;33m:\u001b[0m\u001b[1;33m\u001b[0m\u001b[1;33m\u001b[0m\u001b[0m\n\u001b[0;32m      4\u001b[0m     \u001b[0mprint\u001b[0m\u001b[1;33m(\u001b[0m\u001b[0mx\u001b[0m\u001b[1;33m,\u001b[0m\u001b[1;34m\"is greater\"\u001b[0m\u001b[1;33m)\u001b[0m\u001b[1;33m\u001b[0m\u001b[1;33m\u001b[0m\u001b[0m\n\u001b[0;32m      5\u001b[0m \u001b[1;32melse\u001b[0m\u001b[1;33m:\u001b[0m\u001b[1;33m\u001b[0m\u001b[1;33m\u001b[0m\u001b[0m\n",
      "\u001b[1;32m~\\anaconda3\\lib\\site-packages\\ipykernel\\kernelbase.py\u001b[0m in \u001b[0;36mraw_input\u001b[1;34m(self, prompt)\u001b[0m\n\u001b[0;32m   1175\u001b[0m                 \u001b[1;34m\"raw_input was called, but this frontend does not support input requests.\"\u001b[0m\u001b[1;33m\u001b[0m\u001b[1;33m\u001b[0m\u001b[0m\n\u001b[0;32m   1176\u001b[0m             )\n\u001b[1;32m-> 1177\u001b[1;33m         return self._input_request(\n\u001b[0m\u001b[0;32m   1178\u001b[0m             \u001b[0mstr\u001b[0m\u001b[1;33m(\u001b[0m\u001b[0mprompt\u001b[0m\u001b[1;33m)\u001b[0m\u001b[1;33m,\u001b[0m\u001b[1;33m\u001b[0m\u001b[1;33m\u001b[0m\u001b[0m\n\u001b[0;32m   1179\u001b[0m             \u001b[0mself\u001b[0m\u001b[1;33m.\u001b[0m\u001b[0m_parent_ident\u001b[0m\u001b[1;33m[\u001b[0m\u001b[1;34m\"shell\"\u001b[0m\u001b[1;33m]\u001b[0m\u001b[1;33m,\u001b[0m\u001b[1;33m\u001b[0m\u001b[1;33m\u001b[0m\u001b[0m\n",
      "\u001b[1;32m~\\anaconda3\\lib\\site-packages\\ipykernel\\kernelbase.py\u001b[0m in \u001b[0;36m_input_request\u001b[1;34m(self, prompt, ident, parent, password)\u001b[0m\n\u001b[0;32m   1217\u001b[0m             \u001b[1;32mexcept\u001b[0m \u001b[0mKeyboardInterrupt\u001b[0m\u001b[1;33m:\u001b[0m\u001b[1;33m\u001b[0m\u001b[1;33m\u001b[0m\u001b[0m\n\u001b[0;32m   1218\u001b[0m                 \u001b[1;31m# re-raise KeyboardInterrupt, to truncate traceback\u001b[0m\u001b[1;33m\u001b[0m\u001b[1;33m\u001b[0m\u001b[0m\n\u001b[1;32m-> 1219\u001b[1;33m                 \u001b[1;32mraise\u001b[0m \u001b[0mKeyboardInterrupt\u001b[0m\u001b[1;33m(\u001b[0m\u001b[1;34m\"Interrupted by user\"\u001b[0m\u001b[1;33m)\u001b[0m \u001b[1;32mfrom\u001b[0m \u001b[1;32mNone\u001b[0m\u001b[1;33m\u001b[0m\u001b[1;33m\u001b[0m\u001b[0m\n\u001b[0m\u001b[0;32m   1220\u001b[0m             \u001b[1;32mexcept\u001b[0m \u001b[0mException\u001b[0m\u001b[1;33m:\u001b[0m\u001b[1;33m\u001b[0m\u001b[1;33m\u001b[0m\u001b[0m\n\u001b[0;32m   1221\u001b[0m                 \u001b[0mself\u001b[0m\u001b[1;33m.\u001b[0m\u001b[0mlog\u001b[0m\u001b[1;33m.\u001b[0m\u001b[0mwarning\u001b[0m\u001b[1;33m(\u001b[0m\u001b[1;34m\"Invalid Message:\"\u001b[0m\u001b[1;33m,\u001b[0m \u001b[0mexc_info\u001b[0m\u001b[1;33m=\u001b[0m\u001b[1;32mTrue\u001b[0m\u001b[1;33m)\u001b[0m\u001b[1;33m\u001b[0m\u001b[1;33m\u001b[0m\u001b[0m\n",
      "\u001b[1;31mKeyboardInterrupt\u001b[0m: Interrupted by user"
     ]
    }
   ],
   "source": [
    "x=int(input('enter the firt number'))\n",
    "y=int(input('enter the second number'))\n",
    "if(x>y):\n",
    "    print(x,\"is greater\")\n",
    "else:\n",
    "    print(y,\"is greater\")\n",
    "      "
   ]
  },
  {
   "cell_type": "code",
   "execution_count": null,
   "id": "00a017df",
   "metadata": {},
   "outputs": [],
   "source": [
    "x=int(input('enter the firt number'))\n",
    "y=int(input('enter the second number'))\n",
    "if x>y:\n",
    "    print(x,\"is greater\")\n",
    "elif y>x:\n",
    "    print(y,\"is greater\")\n",
    "else:\n",
    "    print('number are equal')\n",
    "      "
   ]
  },
  {
   "cell_type": "code",
   "execution_count": null,
   "id": "3e51dd80",
   "metadata": {},
   "outputs": [],
   "source": [
    "x=int(input('enter the firt number'))\n",
    "y=int(input('enter the second number'))\n",
    "z=int(input('enter the third number'))\n",
    "if x>y and x>z:\n",
    "    print(x,\"is greater\")\n",
    "elif y>z:\n",
    "    print(y,\"is greater\")\n",
    "    \n",
    "else:\n",
    "    print(z,\"is greater\")\n",
    "\n",
    "      "
   ]
  },
  {
   "cell_type": "markdown",
   "id": "36ca2680",
   "metadata": {},
   "source": [
    "# FOR LOOP"
   ]
  },
  {
   "cell_type": "code",
   "execution_count": null,
   "id": "10c78a10",
   "metadata": {},
   "outputs": [],
   "source": [
    "for number in range(1,10):\n",
    "    print(number)"
   ]
  },
  {
   "cell_type": "code",
   "execution_count": null,
   "id": "5dd8f65d",
   "metadata": {},
   "outputs": [],
   "source": [
    "for number in range(1,10,2):\n",
    "    print(number)"
   ]
  },
  {
   "cell_type": "code",
   "execution_count": null,
   "id": "72f93b05",
   "metadata": {},
   "outputs": [],
   "source": [
    "for number in range(10,1,-1):\n",
    "    print(number)"
   ]
  },
  {
   "cell_type": "code",
   "execution_count": null,
   "id": "282c2ff3",
   "metadata": {},
   "outputs": [],
   "source": [
    "for number in range(1,11):\n",
    "    print(number**2)\n",
    "    "
   ]
  },
  {
   "cell_type": "code",
   "execution_count": null,
   "id": "d5492346",
   "metadata": {},
   "outputs": [],
   "source": [
    "for number in range(0,11,2):\n",
    "    print(number**2) "
   ]
  },
  {
   "cell_type": "code",
   "execution_count": null,
   "id": "bb175679",
   "metadata": {},
   "outputs": [],
   "source": [
    "#get limit from the user ,print sum and average of number upto that limit\n",
    "lim=int(input('enter the input'))\n",
    "sum1=0\n",
    "for n in range(1,lim+1):\n",
    "    sum1=sum1+n\n",
    "print(sum1)\n",
    "print(sum1/lim)"
   ]
  },
  {
   "cell_type": "code",
   "execution_count": null,
   "id": "a7525b58",
   "metadata": {},
   "outputs": [],
   "source": [
    "#count the imagers divisible by 3 from 100 to 500"
   ]
  },
  {
   "cell_type": "code",
   "execution_count": null,
   "id": "91b4165a",
   "metadata": {},
   "outputs": [],
   "source": [
    "i=0\n",
    "for n in range (100,501):\n",
    "    if n%3==0:\n",
    "        i=i+1\n",
    "print(i)"
   ]
  },
  {
   "cell_type": "code",
   "execution_count": null,
   "id": "5ad4e7a2",
   "metadata": {},
   "outputs": [],
   "source": [
    "l1=['apple','orange','kiwi','banana','grape']\n",
    "for f in l1:\n",
    "    print(f)"
   ]
  },
  {
   "cell_type": "code",
   "execution_count": null,
   "id": "bb9c4f0a",
   "metadata": {},
   "outputs": [],
   "source": [
    "s='python programming'\n",
    "for letters in s:\n",
    "    print(letters)"
   ]
  },
  {
   "cell_type": "code",
   "execution_count": null,
   "id": "454dbf5c",
   "metadata": {},
   "outputs": [],
   "source": [
    "s=0\n",
    "l=[45,8,7,5,99,2,0,6,7,88,21,8]\n",
    "for i in l:\n",
    "    s=s+i\n",
    "print(s)\n",
    "print('average=',s/len(l))"
   ]
  },
  {
   "cell_type": "code",
   "execution_count": null,
   "id": "bc4a45fc",
   "metadata": {},
   "outputs": [],
   "source": [
    "n"
   ]
  },
  {
   "cell_type": "markdown",
   "id": "513e7b14",
   "metadata": {},
   "source": [
    "# DAY 3"
   ]
  },
  {
   "cell_type": "code",
   "execution_count": 69,
   "id": "597f1f6e",
   "metadata": {},
   "outputs": [
    {
     "name": "stdout",
     "output_type": "stream",
     "text": [
      "enter the limit:5\n",
      "enter the number4\n",
      "enter the number3\n",
      "enter the number2\n",
      "enter the number1\n",
      "enter the number7\n",
      "[4, 3, 2, 1, 7]\n",
      "17\n"
     ]
    }
   ],
   "source": [
    "l1=[]\n",
    "l=int(input('enter the limit:'))\n",
    "for num in range(1,l+1):\n",
    "    a=int(input('enter the number'))\n",
    "    l1.append(a)\n",
    "print(l1)\n",
    "s=0\n",
    "for i in l1:\n",
    "    s=s+i\n",
    "print(s)"
   ]
  },
  {
   "cell_type": "markdown",
   "id": "f736255b",
   "metadata": {},
   "source": [
    "# WHILE LOOP"
   ]
  },
  {
   "cell_type": "code",
   "execution_count": 70,
   "id": "d815331e",
   "metadata": {},
   "outputs": [
    {
     "name": "stdout",
     "output_type": "stream",
     "text": [
      "1\n",
      "3\n",
      "5\n",
      "7\n",
      "9\n"
     ]
    }
   ],
   "source": [
    "a=1\n",
    "while a<10:\n",
    "    print (a)\n",
    "    a+=2"
   ]
  },
  {
   "cell_type": "code",
   "execution_count": 10,
   "id": "7519821f",
   "metadata": {},
   "outputs": [
    {
     "name": "stdout",
     "output_type": "stream",
     "text": [
      "[8, 42, 12] [3, 5, 37]\n"
     ]
    }
   ],
   "source": [
    "numbers = [12,37,5,42,8,3]\n",
    "even =[]\n",
    "odd =[]\n",
    "while len(numbers)>0:\n",
    "    number=numbers.pop()\n",
    "    if (number %2==0):\n",
    "        even.append(number)\n",
    "    else:\n",
    "        odd.append(number)\n",
    "print(even,odd)\n"
   ]
  },
  {
   "cell_type": "code",
   "execution_count": 12,
   "id": "922a5a94",
   "metadata": {},
   "outputs": [],
   "source": [
    "#sum of first 5 integers using while loop?"
   ]
  },
  {
   "cell_type": "code",
   "execution_count": 13,
   "id": "3afccc2c",
   "metadata": {},
   "outputs": [
    {
     "name": "stdout",
     "output_type": "stream",
     "text": [
      "sum of first 5 integers= 15\n"
     ]
    }
   ],
   "source": [
    "a=1\n",
    "s=0\n",
    "while (a<6):\n",
    "    s=s+a\n",
    "    a=a+1\n",
    "print('sum of first 5 integers=',s)"
   ]
  },
  {
   "cell_type": "code",
   "execution_count": null,
   "id": "d189d0f1",
   "metadata": {},
   "outputs": [],
   "source": []
  },
  {
   "cell_type": "code",
   "execution_count": 22,
   "id": "ec0d38f0",
   "metadata": {},
   "outputs": [
    {
     "name": "stdout",
     "output_type": "stream",
     "text": [
      "enter No to stop execution\n",
      "enter the nameairene\n",
      "do you want to continue?y\n",
      "enter the namemalu\n",
      "do you want to continue?y\n",
      "enter the namejustin\n",
      "do you want to continue?y\n",
      "enter the namesanjay\n",
      "do you want to continue?no\n",
      "execution completed\n",
      "['airene', 'malu', 'justin', 'sanjay']\n"
     ]
    }
   ],
   "source": [
    "print('enter No to stop execution')\n",
    "name_1=[]\n",
    "a=''\n",
    "\n",
    "while(a!=\"NO\"):\n",
    "    name= input ('enter the name')\n",
    "    name_1.append(name)\n",
    "    a=input ('do you want to continue?')\n",
    "    a=a.upper()\n",
    "print('execution completed')\n",
    "print(name_1)"
   ]
  },
  {
   "cell_type": "code",
   "execution_count": 1,
   "id": "fef94a71",
   "metadata": {},
   "outputs": [],
   "source": [
    "#multiplication table of 5"
   ]
  },
  {
   "cell_type": "code",
   "execution_count": 2,
   "id": "51da6781",
   "metadata": {},
   "outputs": [
    {
     "name": "stdout",
     "output_type": "stream",
     "text": [
      "5 x 1 = 5\n",
      "5 x 2 = 10\n",
      "5 x 3 = 15\n",
      "5 x 4 = 20\n",
      "5 x 5 = 25\n",
      "5 x 6 = 30\n",
      "5 x 7 = 35\n",
      "5 x 8 = 40\n",
      "5 x 9 = 45\n",
      "5 x 10 = 50\n"
     ]
    }
   ],
   "source": [
    "for i in range(1,11):\n",
    "    print\n",
    "    print (5,'x',i,'=',5*i)\n",
    "    "
   ]
  },
  {
   "cell_type": "code",
   "execution_count": 5,
   "id": "5afaa03f",
   "metadata": {},
   "outputs": [
    {
     "name": "stdout",
     "output_type": "stream",
     "text": [
      "multiplicatin table of 1\n",
      "1 x 1 = 1\n",
      "1 x 2 = 2\n",
      "1 x 3 = 3\n",
      "1 x 4 = 4\n",
      "1 x 5 = 5\n",
      "1 x 6 = 6\n",
      "1 x 7 = 7\n",
      "1 x 8 = 8\n",
      "1 x 9 = 9\n",
      "1 x 10 = 10\n",
      "multiplicatin table of 2\n",
      "2 x 1 = 2\n",
      "2 x 2 = 4\n",
      "2 x 3 = 6\n",
      "2 x 4 = 8\n",
      "2 x 5 = 10\n",
      "2 x 6 = 12\n",
      "2 x 7 = 14\n",
      "2 x 8 = 16\n",
      "2 x 9 = 18\n",
      "2 x 10 = 20\n",
      "multiplicatin table of 3\n",
      "3 x 1 = 3\n",
      "3 x 2 = 6\n",
      "3 x 3 = 9\n",
      "3 x 4 = 12\n",
      "3 x 5 = 15\n",
      "3 x 6 = 18\n",
      "3 x 7 = 21\n",
      "3 x 8 = 24\n",
      "3 x 9 = 27\n",
      "3 x 10 = 30\n",
      "multiplicatin table of 4\n",
      "4 x 1 = 4\n",
      "4 x 2 = 8\n",
      "4 x 3 = 12\n",
      "4 x 4 = 16\n",
      "4 x 5 = 20\n",
      "4 x 6 = 24\n",
      "4 x 7 = 28\n",
      "4 x 8 = 32\n",
      "4 x 9 = 36\n",
      "4 x 10 = 40\n",
      "multiplicatin table of 5\n",
      "5 x 1 = 5\n",
      "5 x 2 = 10\n",
      "5 x 3 = 15\n",
      "5 x 4 = 20\n",
      "5 x 5 = 25\n",
      "5 x 6 = 30\n",
      "5 x 7 = 35\n",
      "5 x 8 = 40\n",
      "5 x 9 = 45\n",
      "5 x 10 = 50\n",
      "multiplicatin table of 6\n",
      "6 x 1 = 6\n",
      "6 x 2 = 12\n",
      "6 x 3 = 18\n",
      "6 x 4 = 24\n",
      "6 x 5 = 30\n",
      "6 x 6 = 36\n",
      "6 x 7 = 42\n",
      "6 x 8 = 48\n",
      "6 x 9 = 54\n",
      "6 x 10 = 60\n",
      "multiplicatin table of 7\n",
      "7 x 1 = 7\n",
      "7 x 2 = 14\n",
      "7 x 3 = 21\n",
      "7 x 4 = 28\n",
      "7 x 5 = 35\n",
      "7 x 6 = 42\n",
      "7 x 7 = 49\n",
      "7 x 8 = 56\n",
      "7 x 9 = 63\n",
      "7 x 10 = 70\n",
      "multiplicatin table of 8\n",
      "8 x 1 = 8\n",
      "8 x 2 = 16\n",
      "8 x 3 = 24\n",
      "8 x 4 = 32\n",
      "8 x 5 = 40\n",
      "8 x 6 = 48\n",
      "8 x 7 = 56\n",
      "8 x 8 = 64\n",
      "8 x 9 = 72\n",
      "8 x 10 = 80\n",
      "multiplicatin table of 9\n",
      "9 x 1 = 9\n",
      "9 x 2 = 18\n",
      "9 x 3 = 27\n",
      "9 x 4 = 36\n",
      "9 x 5 = 45\n",
      "9 x 6 = 54\n",
      "9 x 7 = 63\n",
      "9 x 8 = 72\n",
      "9 x 9 = 81\n",
      "9 x 10 = 90\n",
      "multiplicatin table of 10\n",
      "10 x 1 = 10\n",
      "10 x 2 = 20\n",
      "10 x 3 = 30\n",
      "10 x 4 = 40\n",
      "10 x 5 = 50\n",
      "10 x 6 = 60\n",
      "10 x 7 = 70\n",
      "10 x 8 = 80\n",
      "10 x 9 = 90\n",
      "10 x 10 = 100\n"
     ]
    }
   ],
   "source": [
    "for i in range(1,11):\n",
    "    print('multiplicatin table of',i)\n",
    "    for j in range(1,11):\n",
    "        print(i,'x',j,'=',i*j)"
   ]
  },
  {
   "cell_type": "code",
   "execution_count": 6,
   "id": "0ebaa3e0",
   "metadata": {},
   "outputs": [
    {
     "name": "stdout",
     "output_type": "stream",
     "text": [
      "1\n",
      "2\n",
      "3\n",
      "4\n",
      "execution completed\n"
     ]
    }
   ],
   "source": [
    "num=1\n",
    "while num<10:\n",
    "    if num==5:\n",
    "        break\n",
    "    print(num)\n",
    "    num=num+1\n",
    "print('execution completed')\n",
    "\n",
    "    "
   ]
  },
  {
   "cell_type": "code",
   "execution_count": 7,
   "id": "b92510fc",
   "metadata": {},
   "outputs": [
    {
     "name": "stdout",
     "output_type": "stream",
     "text": [
      "1\n",
      "2\n",
      "3\n",
      "4\n",
      "6\n",
      "7\n",
      "8\n",
      "9\n"
     ]
    }
   ],
   "source": [
    "for i in range(1,10):\n",
    "    if i==5:\n",
    "        continue\n",
    "    print(i)"
   ]
  },
  {
   "cell_type": "code",
   "execution_count": 8,
   "id": "cd1bff18",
   "metadata": {},
   "outputs": [
    {
     "name": "stdout",
     "output_type": "stream",
     "text": [
      "apple\n",
      "orange\n"
     ]
    }
   ],
   "source": [
    "f =['apple','orange','banana','mango','kiwi']\n",
    "for fruit in f:\n",
    "    if fruit=='banana':\n",
    "        break\n",
    "    print(fruit)"
   ]
  },
  {
   "cell_type": "code",
   "execution_count": 9,
   "id": "645eed90",
   "metadata": {},
   "outputs": [
    {
     "name": "stdout",
     "output_type": "stream",
     "text": [
      "apple\n",
      "orange\n",
      "mango\n",
      "kiwi\n"
     ]
    }
   ],
   "source": [
    "f =['apple','orange','banana','mango','kiwi']\n",
    "for fruit in f:\n",
    "    if fruit=='banana':\n",
    "        continue\n",
    "    print(fruit)"
   ]
  },
  {
   "cell_type": "code",
   "execution_count": 10,
   "id": "809dbb57",
   "metadata": {},
   "outputs": [
    {
     "name": "stdout",
     "output_type": "stream",
     "text": [
      "sum= 8\n"
     ]
    }
   ],
   "source": [
    "def add_no(a,b):\n",
    "    print('sum=',a+b)\n",
    "    \n",
    "add_no(5,3)"
   ]
  },
  {
   "cell_type": "code",
   "execution_count": 11,
   "id": "52d18028",
   "metadata": {},
   "outputs": [
    {
     "name": "stdout",
     "output_type": "stream",
     "text": [
      "enter the first no5\n",
      "enter the second no9\n",
      "sum= 14\n"
     ]
    }
   ],
   "source": [
    "def add_no(a,b):\n",
    "    sum=a+b\n",
    "    return(sum)\n",
    "    \n",
    "x=int(input('enter the first no'))\n",
    "y=int(input('enter the second no'))\n",
    "print('sum=',add_no(x,y))"
   ]
  },
  {
   "cell_type": "code",
   "execution_count": 17,
   "id": "2d4f188a",
   "metadata": {},
   "outputs": [
    {
     "name": "stdout",
     "output_type": "stream",
     "text": [
      "10\n"
     ]
    }
   ],
   "source": [
    "def larger(a,b):\n",
    "    if a>b:\n",
    "        return(a)\n",
    "    else:return(b)\n",
    "print(larger(10,2))"
   ]
  },
  {
   "cell_type": "code",
   "execution_count": 22,
   "id": "6c3ca39d",
   "metadata": {},
   "outputs": [
    {
     "name": "stdout",
     "output_type": "stream",
     "text": [
      "enter mark85\n",
      "enter age21\n"
     ]
    },
    {
     "data": {
      "text/plain": [
       "'select'"
      ]
     },
     "execution_count": 22,
     "metadata": {},
     "output_type": "execute_result"
    }
   ],
   "source": [
    "def select(mark,age):\n",
    "    if mark>80 and age<24:\n",
    "        return ('select')\n",
    "    else:\n",
    "        return('rejucted')\n",
    "\n",
    "m=int(input('enter mark'))\n",
    "a=int(input('enter age'))\n",
    "select(age=a,mark=m)"
   ]
  },
  {
   "cell_type": "code",
   "execution_count": 24,
   "id": "2d3deee3",
   "metadata": {},
   "outputs": [
    {
     "name": "stdout",
     "output_type": "stream",
     "text": [
      "apple\n",
      "orange\n",
      "kiwi\n",
      "banana\n"
     ]
    }
   ],
   "source": [
    "def fruit(food):\n",
    "    for f in food:\n",
    "        print(f)\n",
    "        \n",
    "        \n",
    "fr = ['apple','orange','kiwi','banana']\n",
    "fruit(fr)"
   ]
  },
  {
   "cell_type": "code",
   "execution_count": 25,
   "id": "f6366ba3",
   "metadata": {},
   "outputs": [
    {
     "name": "stdout",
     "output_type": "stream",
     "text": [
      "6\n",
      "38.6\n"
     ]
    }
   ],
   "source": [
    "def add(*num):\n",
    "    s=0\n",
    "    for i in num:\n",
    "        s=s+i\n",
    "    return(s)\n",
    "\n",
    "print(add(1,2,3))\n",
    "print(add(5.6,9,2,3,4,6,9))"
   ]
  },
  {
   "cell_type": "markdown",
   "id": "44283280",
   "metadata": {},
   "source": [
    "# DAY 4"
   ]
  },
  {
   "cell_type": "code",
   "execution_count": null,
   "id": "22cc8573",
   "metadata": {},
   "outputs": [],
   "source": []
  }
 ],
 "metadata": {
  "kernelspec": {
   "display_name": "Python 3 (ipykernel)",
   "language": "python",
   "name": "python3"
  },
  "language_info": {
   "codemirror_mode": {
    "name": "ipython",
    "version": 3
   },
   "file_extension": ".py",
   "mimetype": "text/x-python",
   "name": "python",
   "nbconvert_exporter": "python",
   "pygments_lexer": "ipython3",
   "version": "3.9.13"
  }
 },
 "nbformat": 4,
 "nbformat_minor": 5
}
