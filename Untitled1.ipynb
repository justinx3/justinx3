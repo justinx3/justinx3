{
 "cells": [
  {
   "cell_type": "code",
   "execution_count": 2,
   "id": "75ce5b8f",
   "metadata": {},
   "outputs": [
    {
     "name": "stdout",
     "output_type": "stream",
     "text": [
      "enter a NO1\n",
      "enter a NO2\n",
      "enter a NO3\n",
      "the largest no is 3\n"
     ]
    }
   ],
   "source": [
    "#1. write a python to find the largeset number of 3 numbers \n",
    "x=int(input(\"enter a NO\"))\n",
    "y=int(input(\"enter a NO\"))\n",
    "z=int(input(\"enter a NO\"))\n",
    "if x>y and x>z:\n",
    "    print(\"the largest no is\",x)\n",
    "elif y>x and y>z:\n",
    "    print(\"the largest no is\",y)\n",
    "elif z>x and z>y:\n",
    "    print(\"the largest no is\",z)"
   ]
  },
  {
   "cell_type": "code",
   "execution_count": 5,
   "id": "c3d35d2e",
   "metadata": {},
   "outputs": [
    {
     "name": "stdout",
     "output_type": "stream",
     "text": [
      "105\n",
      "126\n",
      "147\n",
      "168\n",
      "189\n",
      "210\n",
      "231\n",
      "252\n",
      "273\n",
      "294\n",
      "315\n",
      "336\n",
      "357\n",
      "378\n",
      "399\n",
      "420\n",
      "441\n",
      "462\n",
      "483\n",
      "504\n",
      "525\n",
      "546\n",
      "567\n",
      "588\n",
      "609\n",
      "630\n",
      "651\n",
      "672\n",
      "693\n",
      "714\n",
      "735\n",
      "756\n",
      "777\n",
      "798\n"
     ]
    }
   ],
   "source": [
    "# write a python to find numbers divisible by 3 and 7from 100to 800\n",
    "for n in range(100,801):\n",
    "    if n%7==0 and n%3==0:\n",
    "        print(n)\n",
    "    "
   ]
  },
  {
   "cell_type": "code",
   "execution_count": 6,
   "id": "6d0e9628",
   "metadata": {},
   "outputs": [],
   "source": [
    "#write a python program to accept the details of a student line name,roll number and mark and disply it.\n",
    "\n",
    "\n",
    "class student:\n",
    "    mark = []\n",
    "    def getData(self,rn,name,m1,m2,m3):\n",
    "        student.rn = rn\n",
    "        student.name = name\n",
    "        student.marks.append(m1)\n",
    "        student.marks.append(m2)\n",
    "        student.marks.append(m3)\n",
    "        \n",
    "def getData(self):\n",
    "    print (\"Roll Number is: \", student.rn)\n",
    "    print (\"Name is: \", student.name)\n",
    "    #print (\"Mark in subject 1: \", student.marks[0])\n",
    "        \n"
   ]
  },
  {
   "cell_type": "code",
   "execution_count": null,
   "id": "aee7ca8f",
   "metadata": {},
   "outputs": [],
   "source": []
  }
 ],
 "metadata": {
  "kernelspec": {
   "display_name": "Python 3 (ipykernel)",
   "language": "python",
   "name": "python3"
  },
  "language_info": {
   "codemirror_mode": {
    "name": "ipython",
    "version": 3
   },
   "file_extension": ".py",
   "mimetype": "text/x-python",
   "name": "python",
   "nbconvert_exporter": "python",
   "pygments_lexer": "ipython3",
   "version": "3.9.13"
  }
 },
 "nbformat": 4,
 "nbformat_minor": 5
}
