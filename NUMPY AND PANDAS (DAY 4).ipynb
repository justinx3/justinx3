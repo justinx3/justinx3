{
 "cells": [
  {
   "cell_type": "markdown",
   "id": "81b81083",
   "metadata": {},
   "source": [
    "# NUMPY"
   ]
  },
  {
   "cell_type": "code",
   "execution_count": 2,
   "id": "2742c315",
   "metadata": {},
   "outputs": [],
   "source": [
    "list1=[4,2,3,1]\n",
    "list2=[3,6,9,2]\n"
   ]
  },
  {
   "cell_type": "code",
   "execution_count": 3,
   "id": "b874b099",
   "metadata": {},
   "outputs": [],
   "source": [
    "sum_1=list1+list2"
   ]
  },
  {
   "cell_type": "code",
   "execution_count": 4,
   "id": "c9455d5d",
   "metadata": {},
   "outputs": [
    {
     "data": {
      "text/plain": [
       "[4, 2, 3, 1, 3, 6, 9, 2]"
      ]
     },
     "execution_count": 4,
     "metadata": {},
     "output_type": "execute_result"
    }
   ],
   "source": [
    "sum_1"
   ]
  },
  {
   "cell_type": "code",
   "execution_count": 6,
   "id": "faaae083",
   "metadata": {},
   "outputs": [
    {
     "name": "stdout",
     "output_type": "stream",
     "text": [
      "7\n",
      "8\n",
      "12\n",
      "3\n"
     ]
    }
   ],
   "source": [
    "for num1, num2 in zip(list1,list2):\n",
    "    print(num1+num2)\n"
   ]
  },
  {
   "cell_type": "code",
   "execution_count": null,
   "id": "91081bd9",
   "metadata": {},
   "outputs": [],
   "source": [
    "sum_1=[]\n"
   ]
  },
  {
   "cell_type": "code",
   "execution_count": 11,
   "id": "dc05a4ff",
   "metadata": {},
   "outputs": [
    {
     "name": "stdout",
     "output_type": "stream",
     "text": [
      "[7, 8, 12, 3]\n"
     ]
    }
   ],
   "source": [
    "sum_1=[]\n",
    "for num1, num2 in zip(list1,list2):\n",
    "    sum_1.append(num1+num2)\n",
    "print(sum_1)\n"
   ]
  },
  {
   "cell_type": "code",
   "execution_count": null,
   "id": "79d9ae9a",
   "metadata": {},
   "outputs": [],
   "source": [
    "# NUMPY\n"
   ]
  },
  {
   "cell_type": "code",
   "execution_count": 12,
   "id": "b56f5c7f",
   "metadata": {},
   "outputs": [],
   "source": [
    "import numpy as np\n"
   ]
  },
  {
   "cell_type": "code",
   "execution_count": 15,
   "id": "5c1c5657",
   "metadata": {},
   "outputs": [],
   "source": [
    "arr1=np.array(list1)"
   ]
  },
  {
   "cell_type": "code",
   "execution_count": 16,
   "id": "5566ecda",
   "metadata": {},
   "outputs": [
    {
     "data": {
      "text/plain": [
       "array([4, 2, 3, 1])"
      ]
     },
     "execution_count": 16,
     "metadata": {},
     "output_type": "execute_result"
    }
   ],
   "source": [
    "arr1"
   ]
  },
  {
   "cell_type": "code",
   "execution_count": 17,
   "id": "83e81db5",
   "metadata": {},
   "outputs": [],
   "source": [
    "arr2=np.array(list2)"
   ]
  },
  {
   "cell_type": "code",
   "execution_count": 18,
   "id": "f6e85b8f",
   "metadata": {},
   "outputs": [
    {
     "data": {
      "text/plain": [
       "numpy.ndarray"
      ]
     },
     "execution_count": 18,
     "metadata": {},
     "output_type": "execute_result"
    }
   ],
   "source": [
    "type(arr1)"
   ]
  },
  {
   "cell_type": "code",
   "execution_count": 19,
   "id": "24a9b092",
   "metadata": {},
   "outputs": [
    {
     "data": {
      "text/plain": [
       "1"
      ]
     },
     "execution_count": 19,
     "metadata": {},
     "output_type": "execute_result"
    }
   ],
   "source": [
    "arr1.ndim"
   ]
  },
  {
   "cell_type": "code",
   "execution_count": 26,
   "id": "8f2d0f45",
   "metadata": {},
   "outputs": [],
   "source": [
    "list3=[[1,2,4],[6,9,8]]"
   ]
  },
  {
   "cell_type": "code",
   "execution_count": 27,
   "id": "8b5dbc77",
   "metadata": {},
   "outputs": [],
   "source": [
    "arr3=np.array(list3)"
   ]
  },
  {
   "cell_type": "code",
   "execution_count": 28,
   "id": "47abad8d",
   "metadata": {},
   "outputs": [
    {
     "data": {
      "text/plain": [
       "array([[1, 2, 4],\n",
       "       [6, 9, 8]])"
      ]
     },
     "execution_count": 28,
     "metadata": {},
     "output_type": "execute_result"
    }
   ],
   "source": [
    "arr3"
   ]
  },
  {
   "cell_type": "code",
   "execution_count": 29,
   "id": "1903b5f0",
   "metadata": {},
   "outputs": [
    {
     "data": {
      "text/plain": [
       "numpy.ndarray"
      ]
     },
     "execution_count": 29,
     "metadata": {},
     "output_type": "execute_result"
    }
   ],
   "source": [
    "type(arr3)"
   ]
  },
  {
   "cell_type": "code",
   "execution_count": 30,
   "id": "5285d745",
   "metadata": {},
   "outputs": [
    {
     "data": {
      "text/plain": [
       "2"
      ]
     },
     "execution_count": 30,
     "metadata": {},
     "output_type": "execute_result"
    }
   ],
   "source": [
    "arr3.ndim"
   ]
  },
  {
   "cell_type": "code",
   "execution_count": 31,
   "id": "c89269a7",
   "metadata": {},
   "outputs": [
    {
     "data": {
      "text/plain": [
       "dtype('int32')"
      ]
     },
     "execution_count": 31,
     "metadata": {},
     "output_type": "execute_result"
    }
   ],
   "source": [
    "arr3.dtype"
   ]
  },
  {
   "cell_type": "code",
   "execution_count": 32,
   "id": "14e8050f",
   "metadata": {},
   "outputs": [
    {
     "data": {
      "text/plain": [
       "(2, 3)"
      ]
     },
     "execution_count": 32,
     "metadata": {},
     "output_type": "execute_result"
    }
   ],
   "source": [
    "arr3.shape"
   ]
  },
  {
   "cell_type": "code",
   "execution_count": 35,
   "id": "c78b3d13",
   "metadata": {},
   "outputs": [
    {
     "data": {
      "text/plain": [
       "array([[1., 2., 4.],\n",
       "       [6., 9., 8.]])"
      ]
     },
     "execution_count": 35,
     "metadata": {},
     "output_type": "execute_result"
    }
   ],
   "source": [
    "arr4=np.array(list3,dtype=float)\n",
    "arr4"
   ]
  },
  {
   "cell_type": "code",
   "execution_count": 36,
   "id": "857c594a",
   "metadata": {},
   "outputs": [
    {
     "data": {
      "text/plain": [
       "dtype('float64')"
      ]
     },
     "execution_count": 36,
     "metadata": {},
     "output_type": "execute_result"
    }
   ],
   "source": [
    "arr4.dtype"
   ]
  },
  {
   "cell_type": "code",
   "execution_count": 37,
   "id": "332fc88a",
   "metadata": {},
   "outputs": [],
   "source": [
    "arr5=np.array(['5','10','15','20'])"
   ]
  },
  {
   "cell_type": "code",
   "execution_count": 38,
   "id": "8840f0e4",
   "metadata": {},
   "outputs": [
    {
     "data": {
      "text/plain": [
       "array(['5', '10', '15', '20'], dtype='<U2')"
      ]
     },
     "execution_count": 38,
     "metadata": {},
     "output_type": "execute_result"
    }
   ],
   "source": [
    "arr5"
   ]
  },
  {
   "cell_type": "code",
   "execution_count": 39,
   "id": "94653494",
   "metadata": {},
   "outputs": [],
   "source": [
    "arr6=np.array(arr5,dtype=int)"
   ]
  },
  {
   "cell_type": "code",
   "execution_count": 40,
   "id": "7f9c3e06",
   "metadata": {},
   "outputs": [
    {
     "data": {
      "text/plain": [
       "array([ 5, 10, 15, 20])"
      ]
     },
     "execution_count": 40,
     "metadata": {},
     "output_type": "execute_result"
    }
   ],
   "source": [
    "arr6"
   ]
  },
  {
   "cell_type": "code",
   "execution_count": 42,
   "id": "be1a3496",
   "metadata": {},
   "outputs": [
    {
     "data": {
      "text/plain": [
       "dtype('int32')"
      ]
     },
     "execution_count": 42,
     "metadata": {},
     "output_type": "execute_result"
    }
   ],
   "source": [
    "arr6.dtype"
   ]
  },
  {
   "cell_type": "code",
   "execution_count": 43,
   "id": "79169612",
   "metadata": {},
   "outputs": [
    {
     "data": {
      "text/plain": [
       "[0, 1, 2, 3, 4, 5, 6]"
      ]
     },
     "execution_count": 43,
     "metadata": {},
     "output_type": "execute_result"
    }
   ],
   "source": [
    "list(range(7))"
   ]
  },
  {
   "cell_type": "code",
   "execution_count": 44,
   "id": "7333a5e4",
   "metadata": {},
   "outputs": [
    {
     "data": {
      "text/plain": [
       "array([0, 1, 2, 3, 4, 5, 6])"
      ]
     },
     "execution_count": 44,
     "metadata": {},
     "output_type": "execute_result"
    }
   ],
   "source": [
    "np.arange(7)"
   ]
  },
  {
   "cell_type": "code",
   "execution_count": 46,
   "id": "54585651",
   "metadata": {},
   "outputs": [
    {
     "data": {
      "text/plain": [
       "array([2, 3, 4, 5, 6, 7])"
      ]
     },
     "execution_count": 46,
     "metadata": {},
     "output_type": "execute_result"
    }
   ],
   "source": [
    "np.arange(2,8)"
   ]
  },
  {
   "cell_type": "code",
   "execution_count": 47,
   "id": "3db588cb",
   "metadata": {},
   "outputs": [],
   "source": [
    "arr7=np.arange(2,10)"
   ]
  },
  {
   "cell_type": "code",
   "execution_count": 48,
   "id": "d9575b63",
   "metadata": {},
   "outputs": [
    {
     "data": {
      "text/plain": [
       "array([2, 3, 4, 5, 6, 7, 8, 9])"
      ]
     },
     "execution_count": 48,
     "metadata": {},
     "output_type": "execute_result"
    }
   ],
   "source": [
    "arr7"
   ]
  },
  {
   "cell_type": "code",
   "execution_count": 49,
   "id": "7e1f5e1e",
   "metadata": {},
   "outputs": [
    {
     "data": {
      "text/plain": [
       "array([[2, 3],\n",
       "       [4, 5],\n",
       "       [6, 7],\n",
       "       [8, 9]])"
      ]
     },
     "execution_count": 49,
     "metadata": {},
     "output_type": "execute_result"
    }
   ],
   "source": [
    "arr7.reshape(4,2)"
   ]
  },
  {
   "cell_type": "code",
   "execution_count": 53,
   "id": "6d645108",
   "metadata": {},
   "outputs": [
    {
     "data": {
      "text/plain": [
       "array([[2, 3, 4, 5],\n",
       "       [6, 7, 8, 9]])"
      ]
     },
     "execution_count": 53,
     "metadata": {},
     "output_type": "execute_result"
    }
   ],
   "source": [
    "arr7.reshape(2,4)"
   ]
  },
  {
   "cell_type": "code",
   "execution_count": 66,
   "id": "dd60ddc1",
   "metadata": {},
   "outputs": [],
   "source": [
    "arr8=np.arange(2,15)"
   ]
  },
  {
   "cell_type": "code",
   "execution_count": 67,
   "id": "88c21e8c",
   "metadata": {},
   "outputs": [
    {
     "data": {
      "text/plain": [
       "array([ 2,  3,  4,  5,  6,  7,  8,  9, 10, 11, 12, 13, 14])"
      ]
     },
     "execution_count": 67,
     "metadata": {},
     "output_type": "execute_result"
    }
   ],
   "source": [
    "arr8"
   ]
  },
  {
   "cell_type": "code",
   "execution_count": 68,
   "id": "b6431886",
   "metadata": {},
   "outputs": [
    {
     "data": {
      "text/plain": [
       "9"
      ]
     },
     "execution_count": 68,
     "metadata": {},
     "output_type": "execute_result"
    }
   ],
   "source": [
    "arr8[7]"
   ]
  },
  {
   "cell_type": "code",
   "execution_count": 69,
   "id": "658f9ca6",
   "metadata": {},
   "outputs": [
    {
     "data": {
      "text/plain": [
       "array([ 6,  7,  8,  9, 10, 11, 12, 13, 14])"
      ]
     },
     "execution_count": 69,
     "metadata": {},
     "output_type": "execute_result"
    }
   ],
   "source": [
    "arr8[4:]"
   ]
  },
  {
   "cell_type": "code",
   "execution_count": 70,
   "id": "70f0f40e",
   "metadata": {},
   "outputs": [
    {
     "data": {
      "text/plain": [
       "array([2, 3, 4, 5, 6, 7])"
      ]
     },
     "execution_count": 70,
     "metadata": {},
     "output_type": "execute_result"
    }
   ],
   "source": [
    "arr8[:6]"
   ]
  },
  {
   "cell_type": "code",
   "execution_count": 73,
   "id": "2a4f44fd",
   "metadata": {},
   "outputs": [
    {
     "data": {
      "text/plain": [
       "array([ 3,  7, 14])"
      ]
     },
     "execution_count": 73,
     "metadata": {},
     "output_type": "execute_result"
    }
   ],
   "source": [
    "arr8[[1,5,12]]"
   ]
  },
  {
   "cell_type": "code",
   "execution_count": 75,
   "id": "e70da58e",
   "metadata": {},
   "outputs": [],
   "source": [
    "arr9=np.array([[2,-3,6,8],[-3,8,9,-7],[5,8,-4,-7],[7,9,-1,9]])"
   ]
  },
  {
   "cell_type": "code",
   "execution_count": 76,
   "id": "1caccb58",
   "metadata": {},
   "outputs": [
    {
     "data": {
      "text/plain": [
       "array([[ 2, -3,  6,  8],\n",
       "       [-3,  8,  9, -7],\n",
       "       [ 5,  8, -4, -7],\n",
       "       [ 7,  9, -1,  9]])"
      ]
     },
     "execution_count": 76,
     "metadata": {},
     "output_type": "execute_result"
    }
   ],
   "source": [
    "arr9"
   ]
  },
  {
   "cell_type": "code",
   "execution_count": 77,
   "id": "7c8687c2",
   "metadata": {},
   "outputs": [
    {
     "data": {
      "text/plain": [
       "array([ 5,  8, -4, -7])"
      ]
     },
     "execution_count": 77,
     "metadata": {},
     "output_type": "execute_result"
    }
   ],
   "source": [
    "arr9[2]"
   ]
  },
  {
   "cell_type": "code",
   "execution_count": 78,
   "id": "b8ee8d81",
   "metadata": {},
   "outputs": [
    {
     "data": {
      "text/plain": [
       "-7"
      ]
     },
     "execution_count": 78,
     "metadata": {},
     "output_type": "execute_result"
    }
   ],
   "source": [
    "arr9[2,3]"
   ]
  },
  {
   "cell_type": "code",
   "execution_count": 81,
   "id": "290e7732",
   "metadata": {},
   "outputs": [
    {
     "data": {
      "text/plain": [
       "array([[ 2, -3,  6,  8],\n",
       "       [-3,  8,  9, -7]])"
      ]
     },
     "execution_count": 81,
     "metadata": {},
     "output_type": "execute_result"
    }
   ],
   "source": [
    "arr9[0:2]"
   ]
  },
  {
   "cell_type": "code",
   "execution_count": 82,
   "id": "9c4d7b1c",
   "metadata": {},
   "outputs": [
    {
     "data": {
      "text/plain": [
       "array([[-3,  8,  9, -7],\n",
       "       [ 5,  8, -4, -7],\n",
       "       [ 7,  9, -1,  9]])"
      ]
     },
     "execution_count": 82,
     "metadata": {},
     "output_type": "execute_result"
    }
   ],
   "source": [
    "arr9[1:]"
   ]
  },
  {
   "cell_type": "code",
   "execution_count": 83,
   "id": "f37de583",
   "metadata": {},
   "outputs": [
    {
     "data": {
      "text/plain": [
       "array([[ 2, -3,  6,  8],\n",
       "       [-3,  8,  9, -7],\n",
       "       [ 5,  8, -4, -7],\n",
       "       [ 7,  9, -1,  9]])"
      ]
     },
     "execution_count": 83,
     "metadata": {},
     "output_type": "execute_result"
    }
   ],
   "source": [
    "arr9[::]"
   ]
  },
  {
   "cell_type": "code",
   "execution_count": 84,
   "id": "d21c7cd1",
   "metadata": {},
   "outputs": [
    {
     "data": {
      "text/plain": [
       "array([-3,  8,  8,  9])"
      ]
     },
     "execution_count": 84,
     "metadata": {},
     "output_type": "execute_result"
    }
   ],
   "source": [
    "arr9[:,1]"
   ]
  },
  {
   "cell_type": "code",
   "execution_count": 85,
   "id": "944c45ec",
   "metadata": {},
   "outputs": [
    {
     "data": {
      "text/plain": [
       "array([-3,  8,  9, -7])"
      ]
     },
     "execution_count": 85,
     "metadata": {},
     "output_type": "execute_result"
    }
   ],
   "source": [
    "arr9[1,:]"
   ]
  },
  {
   "cell_type": "code",
   "execution_count": 87,
   "id": "9e811306",
   "metadata": {},
   "outputs": [
    {
     "data": {
      "text/plain": [
       "array([[ 8,  9],\n",
       "       [ 8, -4]])"
      ]
     },
     "execution_count": 87,
     "metadata": {},
     "output_type": "execute_result"
    }
   ],
   "source": [
    "arr9[1:3,1:3]"
   ]
  },
  {
   "cell_type": "code",
   "execution_count": 88,
   "id": "1428dbed",
   "metadata": {},
   "outputs": [],
   "source": [
    "arr10=np.arange(10,82,2)"
   ]
  },
  {
   "cell_type": "code",
   "execution_count": 107,
   "id": "1bb090bb",
   "metadata": {},
   "outputs": [
    {
     "data": {
      "text/plain": [
       "array([10, 12, 14, 16, 18, 20, 22, 24, 26, 28, 30, 32, 34, 36, 38, 40, 42,\n",
       "       44, 46, 48, 50, 52, 54, 56, 58, 60, 62, 64, 66, 68, 70, 72, 74, 76,\n",
       "       78, 80])"
      ]
     },
     "execution_count": 107,
     "metadata": {},
     "output_type": "execute_result"
    }
   ],
   "source": [
    "arr10"
   ]
  },
  {
   "cell_type": "code",
   "execution_count": 114,
   "id": "182089c4",
   "metadata": {},
   "outputs": [],
   "source": [
    "arr10=arr10.reshape(6,6)"
   ]
  },
  {
   "cell_type": "code",
   "execution_count": 115,
   "id": "b3a9cd05",
   "metadata": {},
   "outputs": [
    {
     "data": {
      "text/plain": [
       "array([[12, 18],\n",
       "       [24, 30],\n",
       "       [36, 42],\n",
       "       [48, 54],\n",
       "       [60, 66],\n",
       "       [72, 78]])"
      ]
     },
     "execution_count": 115,
     "metadata": {},
     "output_type": "execute_result"
    }
   ],
   "source": [
    "arr10[:,[1,4]]"
   ]
  },
  {
   "cell_type": "code",
   "execution_count": 116,
   "id": "a129bf2c",
   "metadata": {},
   "outputs": [],
   "source": [
    "arr11=arr10[:,1:4]"
   ]
  },
  {
   "cell_type": "code",
   "execution_count": 117,
   "id": "bf70cc7d",
   "metadata": {},
   "outputs": [
    {
     "data": {
      "text/plain": [
       "array([[12, 14, 16],\n",
       "       [24, 26, 28],\n",
       "       [36, 38, 40],\n",
       "       [48, 50, 52],\n",
       "       [60, 62, 64],\n",
       "       [72, 74, 76]])"
      ]
     },
     "execution_count": 117,
     "metadata": {},
     "output_type": "execute_result"
    }
   ],
   "source": [
    "arr11"
   ]
  },
  {
   "cell_type": "code",
   "execution_count": 118,
   "id": "a25d3df5",
   "metadata": {},
   "outputs": [
    {
     "data": {
      "text/plain": [
       "(6, 3)"
      ]
     },
     "execution_count": 118,
     "metadata": {},
     "output_type": "execute_result"
    }
   ],
   "source": [
    "arr11.shape"
   ]
  },
  {
   "cell_type": "code",
   "execution_count": 119,
   "id": "b7c3ae0e",
   "metadata": {},
   "outputs": [
    {
     "data": {
      "text/plain": [
       "6"
      ]
     },
     "execution_count": 119,
     "metadata": {},
     "output_type": "execute_result"
    }
   ],
   "source": [
    "arr11.shape[0]"
   ]
  },
  {
   "cell_type": "code",
   "execution_count": 120,
   "id": "fdc0ed30",
   "metadata": {},
   "outputs": [
    {
     "data": {
      "text/plain": [
       "3"
      ]
     },
     "execution_count": 120,
     "metadata": {},
     "output_type": "execute_result"
    }
   ],
   "source": [
    "arr11.shape[1]"
   ]
  },
  {
   "cell_type": "code",
   "execution_count": 121,
   "id": "c32221c3",
   "metadata": {},
   "outputs": [
    {
     "data": {
      "text/plain": [
       "18"
      ]
     },
     "execution_count": 121,
     "metadata": {},
     "output_type": "execute_result"
    }
   ],
   "source": [
    "arr11.size"
   ]
  },
  {
   "cell_type": "code",
   "execution_count": 122,
   "id": "c3810d88",
   "metadata": {},
   "outputs": [],
   "source": [
    "arr12=np.array([25,50,75,100])"
   ]
  },
  {
   "cell_type": "code",
   "execution_count": 124,
   "id": "c363514a",
   "metadata": {},
   "outputs": [
    {
     "data": {
      "text/plain": [
       "250"
      ]
     },
     "execution_count": 124,
     "metadata": {},
     "output_type": "execute_result"
    }
   ],
   "source": [
    "arr12.sum()"
   ]
  },
  {
   "cell_type": "code",
   "execution_count": 125,
   "id": "cc581442",
   "metadata": {},
   "outputs": [
    {
     "data": {
      "text/plain": [
       "250"
      ]
     },
     "execution_count": 125,
     "metadata": {},
     "output_type": "execute_result"
    }
   ],
   "source": [
    "np.sum(arr12)"
   ]
  },
  {
   "cell_type": "code",
   "execution_count": 127,
   "id": "72dc0a70",
   "metadata": {},
   "outputs": [
    {
     "data": {
      "text/plain": [
       "62.5"
      ]
     },
     "execution_count": 127,
     "metadata": {},
     "output_type": "execute_result"
    }
   ],
   "source": [
    "arr12.mean()"
   ]
  },
  {
   "cell_type": "code",
   "execution_count": 128,
   "id": "2b76dafd",
   "metadata": {},
   "outputs": [
    {
     "data": {
      "text/plain": [
       "62.5"
      ]
     },
     "execution_count": 128,
     "metadata": {},
     "output_type": "execute_result"
    }
   ],
   "source": [
    "np.mean(arr12)"
   ]
  },
  {
   "cell_type": "code",
   "execution_count": 131,
   "id": "a818a601",
   "metadata": {},
   "outputs": [
    {
     "data": {
      "text/plain": [
       "62.5"
      ]
     },
     "execution_count": 131,
     "metadata": {},
     "output_type": "execute_result"
    }
   ],
   "source": [
    "np.median(arr12)"
   ]
  },
  {
   "cell_type": "code",
   "execution_count": 132,
   "id": "9089c9f6",
   "metadata": {},
   "outputs": [
    {
     "data": {
      "text/plain": [
       "792"
      ]
     },
     "execution_count": 132,
     "metadata": {},
     "output_type": "execute_result"
    }
   ],
   "source": [
    "arr11.sum()"
   ]
  },
  {
   "cell_type": "code",
   "execution_count": 133,
   "id": "09e23b5c",
   "metadata": {},
   "outputs": [
    {
     "data": {
      "text/plain": [
       "array([252, 264, 276])"
      ]
     },
     "execution_count": 133,
     "metadata": {},
     "output_type": "execute_result"
    }
   ],
   "source": [
    "arr11.sum(axis=0)"
   ]
  },
  {
   "cell_type": "code",
   "execution_count": 134,
   "id": "46d49632",
   "metadata": {},
   "outputs": [
    {
     "data": {
      "text/plain": [
       "array([ 42,  78, 114, 150, 186, 222])"
      ]
     },
     "execution_count": 134,
     "metadata": {},
     "output_type": "execute_result"
    }
   ],
   "source": [
    "arr11.sum(axis=1)"
   ]
  },
  {
   "cell_type": "code",
   "execution_count": 137,
   "id": "0ccd2696",
   "metadata": {},
   "outputs": [
    {
     "data": {
      "text/plain": [
       "array([[0., 0., 0., 0., 0.],\n",
       "       [0., 0., 0., 0., 0.],\n",
       "       [0., 0., 0., 0., 0.],\n",
       "       [0., 0., 0., 0., 0.],\n",
       "       [0., 0., 0., 0., 0.]])"
      ]
     },
     "execution_count": 137,
     "metadata": {},
     "output_type": "execute_result"
    }
   ],
   "source": [
    "np.zeros((5,5))"
   ]
  },
  {
   "cell_type": "code",
   "execution_count": 140,
   "id": "bbc04ff8",
   "metadata": {},
   "outputs": [
    {
     "data": {
      "text/plain": [
       "array([[1., 0., 0., 0., 0.],\n",
       "       [0., 1., 0., 0., 0.],\n",
       "       [0., 0., 1., 0., 0.],\n",
       "       [0., 0., 0., 1., 0.],\n",
       "       [0., 0., 0., 0., 1.]])"
      ]
     },
     "execution_count": 140,
     "metadata": {},
     "output_type": "execute_result"
    }
   ],
   "source": [
    "np.eye((5))"
   ]
  },
  {
   "cell_type": "code",
   "execution_count": 141,
   "id": "f9aa7acf",
   "metadata": {},
   "outputs": [
    {
     "data": {
      "text/plain": [
       "array([[1., 1., 1., 1.],\n",
       "       [1., 1., 1., 1.],\n",
       "       [1., 1., 1., 1.],\n",
       "       [1., 1., 1., 1.]])"
      ]
     },
     "execution_count": 141,
     "metadata": {},
     "output_type": "execute_result"
    }
   ],
   "source": [
    "np.ones((4,4))"
   ]
  },
  {
   "cell_type": "code",
   "execution_count": 143,
   "id": "b9da01e3",
   "metadata": {},
   "outputs": [
    {
     "data": {
      "text/plain": [
       "array([[0.84438575, 0.35426067, 0.13459934],\n",
       "       [0.11267523, 0.92819228, 0.35060544]])"
      ]
     },
     "execution_count": 143,
     "metadata": {},
     "output_type": "execute_result"
    }
   ],
   "source": [
    "np.random.rand(2,3)"
   ]
  },
  {
   "cell_type": "markdown",
   "id": "f2a117f9",
   "metadata": {},
   "source": [
    "# PANDAS"
   ]
  },
  {
   "cell_type": "code",
   "execution_count": 144,
   "id": "09672e67",
   "metadata": {},
   "outputs": [],
   "source": [
    "import pandas as pd"
   ]
  },
  {
   "cell_type": "code",
   "execution_count": 147,
   "id": "bc758ae1",
   "metadata": {},
   "outputs": [],
   "source": [
    "marks=pd.Series([23,54,66,29])\n"
   ]
  },
  {
   "cell_type": "code",
   "execution_count": 148,
   "id": "603d2f6a",
   "metadata": {},
   "outputs": [
    {
     "data": {
      "text/plain": [
       "0    23\n",
       "1    54\n",
       "2    66\n",
       "3    29\n",
       "dtype: int64"
      ]
     },
     "execution_count": 148,
     "metadata": {},
     "output_type": "execute_result"
    }
   ],
   "source": [
    "marks"
   ]
  },
  {
   "cell_type": "code",
   "execution_count": 149,
   "id": "7c6924cb",
   "metadata": {},
   "outputs": [],
   "source": [
    "score = pd.Series([45,76,55,77],index=['alfred','airene','malavika','sreelakshmi'])"
   ]
  },
  {
   "cell_type": "code",
   "execution_count": 150,
   "id": "0a3539b3",
   "metadata": {},
   "outputs": [
    {
     "data": {
      "text/plain": [
       "alfred         45\n",
       "airene         76\n",
       "malavika       55\n",
       "sreelakshmi    77\n",
       "dtype: int64"
      ]
     },
     "execution_count": 150,
     "metadata": {},
     "output_type": "execute_result"
    }
   ],
   "source": [
    "score"
   ]
  },
  {
   "cell_type": "code",
   "execution_count": 154,
   "id": "835e6e12",
   "metadata": {},
   "outputs": [
    {
     "data": {
      "text/plain": [
       "76"
      ]
     },
     "execution_count": 154,
     "metadata": {},
     "output_type": "execute_result"
    }
   ],
   "source": [
    "score['airene']"
   ]
  },
  {
   "cell_type": "code",
   "execution_count": 156,
   "id": "5b59b0ec",
   "metadata": {},
   "outputs": [
    {
     "data": {
      "text/plain": [
       "76"
      ]
     },
     "execution_count": 156,
     "metadata": {},
     "output_type": "execute_result"
    }
   ],
   "source": [
    "score[1]"
   ]
  },
  {
   "cell_type": "code",
   "execution_count": 159,
   "id": "0e4620c8",
   "metadata": {},
   "outputs": [
    {
     "data": {
      "text/plain": [
       "alfred         45\n",
       "sreelakshmi    77\n",
       "dtype: int64"
      ]
     },
     "execution_count": 159,
     "metadata": {},
     "output_type": "execute_result"
    }
   ],
   "source": [
    "score[['alfred','sreelakshmi']]"
   ]
  },
  {
   "cell_type": "code",
   "execution_count": 160,
   "id": "99001a28",
   "metadata": {},
   "outputs": [
    {
     "data": {
      "text/plain": [
       "alfred         False\n",
       "airene          True\n",
       "malavika        True\n",
       "sreelakshmi     True\n",
       "dtype: bool"
      ]
     },
     "execution_count": 160,
     "metadata": {},
     "output_type": "execute_result"
    }
   ],
   "source": [
    "score>50"
   ]
  },
  {
   "cell_type": "code",
   "execution_count": 161,
   "id": "61d8caab",
   "metadata": {},
   "outputs": [
    {
     "data": {
      "text/plain": [
       "airene         76\n",
       "malavika       55\n",
       "sreelakshmi    77\n",
       "dtype: int64"
      ]
     },
     "execution_count": 161,
     "metadata": {},
     "output_type": "execute_result"
    }
   ],
   "source": [
    "score[score>50]"
   ]
  },
  {
   "cell_type": "code",
   "execution_count": 162,
   "id": "77941fa4",
   "metadata": {},
   "outputs": [
    {
     "data": {
      "text/plain": [
       "45"
      ]
     },
     "execution_count": 162,
     "metadata": {},
     "output_type": "execute_result"
    }
   ],
   "source": [
    "score.min()"
   ]
  },
  {
   "cell_type": "code",
   "execution_count": 165,
   "id": "33c4b182",
   "metadata": {},
   "outputs": [
    {
     "data": {
      "text/plain": [
       "malavika    55\n",
       "dtype: int64"
      ]
     },
     "execution_count": 165,
     "metadata": {},
     "output_type": "execute_result"
    }
   ],
   "source": [
    "score[(score>50)&(score<60)]"
   ]
  },
  {
   "cell_type": "code",
   "execution_count": 166,
   "id": "ffbb05d5",
   "metadata": {},
   "outputs": [
    {
     "data": {
      "text/plain": [
       "alfred         47\n",
       "airene         78\n",
       "malavika       57\n",
       "sreelakshmi    79\n",
       "dtype: int64"
      ]
     },
     "execution_count": 166,
     "metadata": {},
     "output_type": "execute_result"
    }
   ],
   "source": [
    "score+2"
   ]
  },
  {
   "cell_type": "code",
   "execution_count": 167,
   "id": "59a05ff5",
   "metadata": {},
   "outputs": [
    {
     "data": {
      "text/plain": [
       "alfred         45\n",
       "malavika       55\n",
       "airene         76\n",
       "sreelakshmi    77\n",
       "dtype: int64"
      ]
     },
     "execution_count": 167,
     "metadata": {},
     "output_type": "execute_result"
    }
   ],
   "source": [
    "score.sort_values()"
   ]
  },
  {
   "cell_type": "code",
   "execution_count": 177,
   "id": "37138f0f",
   "metadata": {},
   "outputs": [
    {
     "data": {
      "text/plain": [
       "sreelakshmi    77\n",
       "airene         76\n",
       "malavika       55\n",
       "alfred         45\n",
       "dtype: int64"
      ]
     },
     "execution_count": 177,
     "metadata": {},
     "output_type": "execute_result"
    }
   ],
   "source": [
    "score.sort_values(ascending= False)"
   ]
  },
  {
   "cell_type": "code",
   "execution_count": 178,
   "id": "193f0fb3",
   "metadata": {},
   "outputs": [],
   "source": [
    "#CREATING A SERIES OBJECT WITH DICTIONARY"
   ]
  },
  {
   "cell_type": "code",
   "execution_count": 183,
   "id": "050cdca2",
   "metadata": {},
   "outputs": [],
   "source": [
    "temp={\"kearala\":25,\"tn\":30,\"jk\":10,\"karanataka\":30}"
   ]
  },
  {
   "cell_type": "code",
   "execution_count": 184,
   "id": "0911db1c",
   "metadata": {},
   "outputs": [],
   "source": [
    "temp=pd.Series(temp)"
   ]
  },
  {
   "cell_type": "code",
   "execution_count": 185,
   "id": "9ae485b9",
   "metadata": {},
   "outputs": [
    {
     "data": {
      "text/plain": [
       "kearala       25\n",
       "tn            30\n",
       "jk            10\n",
       "karanataka    30\n",
       "dtype: int64"
      ]
     },
     "execution_count": 185,
     "metadata": {},
     "output_type": "execute_result"
    }
   ],
   "source": [
    "temp"
   ]
  },
  {
   "cell_type": "code",
   "execution_count": 188,
   "id": "1caac0b9",
   "metadata": {},
   "outputs": [],
   "source": [
    "states=[\"kearala\",\"JK\",\"AP\",\"JK\"]\n",
    "temp2=pd.Series(temp,index=states)"
   ]
  },
  {
   "cell_type": "code",
   "execution_count": 189,
   "id": "b519b1f3",
   "metadata": {},
   "outputs": [
    {
     "data": {
      "text/plain": [
       "kearala    25.0\n",
       "JK          NaN\n",
       "AP          NaN\n",
       "JK          NaN\n",
       "dtype: float64"
      ]
     },
     "execution_count": 189,
     "metadata": {},
     "output_type": "execute_result"
    }
   ],
   "source": [
    "temp2"
   ]
  },
  {
   "cell_type": "code",
   "execution_count": 190,
   "id": "fbdd0fdd",
   "metadata": {},
   "outputs": [
    {
     "data": {
      "text/plain": [
       "JK   NaN\n",
       "AP   NaN\n",
       "JK   NaN\n",
       "dtype: float64"
      ]
     },
     "execution_count": 190,
     "metadata": {},
     "output_type": "execute_result"
    }
   ],
   "source": [
    "temp2[temp2.isna()]"
   ]
  },
  {
   "cell_type": "code",
   "execution_count": 191,
   "id": "2d85b202",
   "metadata": {},
   "outputs": [
    {
     "data": {
      "text/plain": [
       "kearala     True\n",
       "JK         False\n",
       "AP         False\n",
       "JK         False\n",
       "dtype: bool"
      ]
     },
     "execution_count": 191,
     "metadata": {},
     "output_type": "execute_result"
    }
   ],
   "source": [
    "temp2.notna()"
   ]
  },
  {
   "cell_type": "markdown",
   "id": "b6497844",
   "metadata": {},
   "source": [
    "# PANDAS DATARAME"
   ]
  },
  {
   "cell_type": "code",
   "execution_count": 192,
   "id": "1923dff3",
   "metadata": {},
   "outputs": [],
   "source": [
    "score={\"nida\":[45,34,34,44],\"adhithyan\":[56,44,88,33],\"aswin\":[55,88,45,77],\"sanjay\":[67,58,87,55]}"
   ]
  },
  {
   "cell_type": "code",
   "execution_count": 193,
   "id": "83f6536c",
   "metadata": {},
   "outputs": [],
   "source": [
    "df=pd.DataFrame(score)"
   ]
  },
  {
   "cell_type": "code",
   "execution_count": 194,
   "id": "67923dd6",
   "metadata": {},
   "outputs": [
    {
     "data": {
      "text/html": [
       "<div>\n",
       "<style scoped>\n",
       "    .dataframe tbody tr th:only-of-type {\n",
       "        vertical-align: middle;\n",
       "    }\n",
       "\n",
       "    .dataframe tbody tr th {\n",
       "        vertical-align: top;\n",
       "    }\n",
       "\n",
       "    .dataframe thead th {\n",
       "        text-align: right;\n",
       "    }\n",
       "</style>\n",
       "<table border=\"1\" class=\"dataframe\">\n",
       "  <thead>\n",
       "    <tr style=\"text-align: right;\">\n",
       "      <th></th>\n",
       "      <th>nida</th>\n",
       "      <th>adhithyan</th>\n",
       "      <th>aswin</th>\n",
       "      <th>sanjay</th>\n",
       "    </tr>\n",
       "  </thead>\n",
       "  <tbody>\n",
       "    <tr>\n",
       "      <th>0</th>\n",
       "      <td>45</td>\n",
       "      <td>56</td>\n",
       "      <td>55</td>\n",
       "      <td>67</td>\n",
       "    </tr>\n",
       "    <tr>\n",
       "      <th>1</th>\n",
       "      <td>34</td>\n",
       "      <td>44</td>\n",
       "      <td>88</td>\n",
       "      <td>58</td>\n",
       "    </tr>\n",
       "    <tr>\n",
       "      <th>2</th>\n",
       "      <td>34</td>\n",
       "      <td>88</td>\n",
       "      <td>45</td>\n",
       "      <td>87</td>\n",
       "    </tr>\n",
       "    <tr>\n",
       "      <th>3</th>\n",
       "      <td>44</td>\n",
       "      <td>33</td>\n",
       "      <td>77</td>\n",
       "      <td>55</td>\n",
       "    </tr>\n",
       "  </tbody>\n",
       "</table>\n",
       "</div>"
      ],
      "text/plain": [
       "   nida  adhithyan  aswin  sanjay\n",
       "0    45         56     55      67\n",
       "1    34         44     88      58\n",
       "2    34         88     45      87\n",
       "3    44         33     77      55"
      ]
     },
     "execution_count": 194,
     "metadata": {},
     "output_type": "execute_result"
    }
   ],
   "source": [
    "df"
   ]
  },
  {
   "cell_type": "code",
   "execution_count": 195,
   "id": "f664aabe",
   "metadata": {},
   "outputs": [],
   "source": [
    "sub=['ENG','C','PYTHON','MATHS']"
   ]
  },
  {
   "cell_type": "code",
   "execution_count": 200,
   "id": "2e200331",
   "metadata": {},
   "outputs": [],
   "source": [
    "df1=pd.DataFrame(score,index=sub)"
   ]
  },
  {
   "cell_type": "code",
   "execution_count": 201,
   "id": "02328db9",
   "metadata": {},
   "outputs": [
    {
     "data": {
      "text/html": [
       "<div>\n",
       "<style scoped>\n",
       "    .dataframe tbody tr th:only-of-type {\n",
       "        vertical-align: middle;\n",
       "    }\n",
       "\n",
       "    .dataframe tbody tr th {\n",
       "        vertical-align: top;\n",
       "    }\n",
       "\n",
       "    .dataframe thead th {\n",
       "        text-align: right;\n",
       "    }\n",
       "</style>\n",
       "<table border=\"1\" class=\"dataframe\">\n",
       "  <thead>\n",
       "    <tr style=\"text-align: right;\">\n",
       "      <th></th>\n",
       "      <th>nida</th>\n",
       "      <th>adhithyan</th>\n",
       "      <th>aswin</th>\n",
       "      <th>sanjay</th>\n",
       "    </tr>\n",
       "  </thead>\n",
       "  <tbody>\n",
       "    <tr>\n",
       "      <th>ENG</th>\n",
       "      <td>45</td>\n",
       "      <td>56</td>\n",
       "      <td>55</td>\n",
       "      <td>67</td>\n",
       "    </tr>\n",
       "    <tr>\n",
       "      <th>C</th>\n",
       "      <td>34</td>\n",
       "      <td>44</td>\n",
       "      <td>88</td>\n",
       "      <td>58</td>\n",
       "    </tr>\n",
       "    <tr>\n",
       "      <th>PYTHON</th>\n",
       "      <td>34</td>\n",
       "      <td>88</td>\n",
       "      <td>45</td>\n",
       "      <td>87</td>\n",
       "    </tr>\n",
       "    <tr>\n",
       "      <th>MATHS</th>\n",
       "      <td>44</td>\n",
       "      <td>33</td>\n",
       "      <td>77</td>\n",
       "      <td>55</td>\n",
       "    </tr>\n",
       "  </tbody>\n",
       "</table>\n",
       "</div>"
      ],
      "text/plain": [
       "        nida  adhithyan  aswin  sanjay\n",
       "ENG       45         56     55      67\n",
       "C         34         44     88      58\n",
       "PYTHON    34         88     45      87\n",
       "MATHS     44         33     77      55"
      ]
     },
     "execution_count": 201,
     "metadata": {},
     "output_type": "execute_result"
    }
   ],
   "source": [
    "df1"
   ]
  },
  {
   "cell_type": "code",
   "execution_count": 206,
   "id": "c82aa119",
   "metadata": {},
   "outputs": [],
   "source": [
    "df2=pd.DataFrame(df1,columns=[\"nida\",\"justin\",\"aswin\",\"sanjay\"])"
   ]
  },
  {
   "cell_type": "code",
   "execution_count": 207,
   "id": "8ace51da",
   "metadata": {},
   "outputs": [
    {
     "data": {
      "text/html": [
       "<div>\n",
       "<style scoped>\n",
       "    .dataframe tbody tr th:only-of-type {\n",
       "        vertical-align: middle;\n",
       "    }\n",
       "\n",
       "    .dataframe tbody tr th {\n",
       "        vertical-align: top;\n",
       "    }\n",
       "\n",
       "    .dataframe thead th {\n",
       "        text-align: right;\n",
       "    }\n",
       "</style>\n",
       "<table border=\"1\" class=\"dataframe\">\n",
       "  <thead>\n",
       "    <tr style=\"text-align: right;\">\n",
       "      <th></th>\n",
       "      <th>nida</th>\n",
       "      <th>justin</th>\n",
       "      <th>aswin</th>\n",
       "      <th>sanjay</th>\n",
       "    </tr>\n",
       "  </thead>\n",
       "  <tbody>\n",
       "    <tr>\n",
       "      <th>ENG</th>\n",
       "      <td>45</td>\n",
       "      <td>NaN</td>\n",
       "      <td>55</td>\n",
       "      <td>67</td>\n",
       "    </tr>\n",
       "    <tr>\n",
       "      <th>C</th>\n",
       "      <td>34</td>\n",
       "      <td>NaN</td>\n",
       "      <td>88</td>\n",
       "      <td>58</td>\n",
       "    </tr>\n",
       "    <tr>\n",
       "      <th>PYTHON</th>\n",
       "      <td>34</td>\n",
       "      <td>NaN</td>\n",
       "      <td>45</td>\n",
       "      <td>87</td>\n",
       "    </tr>\n",
       "    <tr>\n",
       "      <th>MATHS</th>\n",
       "      <td>44</td>\n",
       "      <td>NaN</td>\n",
       "      <td>77</td>\n",
       "      <td>55</td>\n",
       "    </tr>\n",
       "  </tbody>\n",
       "</table>\n",
       "</div>"
      ],
      "text/plain": [
       "        nida  justin  aswin  sanjay\n",
       "ENG       45     NaN     55      67\n",
       "C         34     NaN     88      58\n",
       "PYTHON    34     NaN     45      87\n",
       "MATHS     44     NaN     77      55"
      ]
     },
     "execution_count": 207,
     "metadata": {},
     "output_type": "execute_result"
    }
   ],
   "source": [
    "df2"
   ]
  },
  {
   "cell_type": "code",
   "execution_count": 210,
   "id": "581931af",
   "metadata": {},
   "outputs": [],
   "source": [
    "df2[\"justin\"]=[99,66,88,33]"
   ]
  },
  {
   "cell_type": "code",
   "execution_count": 211,
   "id": "a6d2c2e3",
   "metadata": {},
   "outputs": [
    {
     "data": {
      "text/html": [
       "<div>\n",
       "<style scoped>\n",
       "    .dataframe tbody tr th:only-of-type {\n",
       "        vertical-align: middle;\n",
       "    }\n",
       "\n",
       "    .dataframe tbody tr th {\n",
       "        vertical-align: top;\n",
       "    }\n",
       "\n",
       "    .dataframe thead th {\n",
       "        text-align: right;\n",
       "    }\n",
       "</style>\n",
       "<table border=\"1\" class=\"dataframe\">\n",
       "  <thead>\n",
       "    <tr style=\"text-align: right;\">\n",
       "      <th></th>\n",
       "      <th>nida</th>\n",
       "      <th>justin</th>\n",
       "      <th>aswin</th>\n",
       "      <th>sanjay</th>\n",
       "    </tr>\n",
       "  </thead>\n",
       "  <tbody>\n",
       "    <tr>\n",
       "      <th>ENG</th>\n",
       "      <td>45</td>\n",
       "      <td>99</td>\n",
       "      <td>55</td>\n",
       "      <td>67</td>\n",
       "    </tr>\n",
       "    <tr>\n",
       "      <th>C</th>\n",
       "      <td>34</td>\n",
       "      <td>66</td>\n",
       "      <td>88</td>\n",
       "      <td>58</td>\n",
       "    </tr>\n",
       "    <tr>\n",
       "      <th>PYTHON</th>\n",
       "      <td>34</td>\n",
       "      <td>88</td>\n",
       "      <td>45</td>\n",
       "      <td>87</td>\n",
       "    </tr>\n",
       "    <tr>\n",
       "      <th>MATHS</th>\n",
       "      <td>44</td>\n",
       "      <td>33</td>\n",
       "      <td>77</td>\n",
       "      <td>55</td>\n",
       "    </tr>\n",
       "  </tbody>\n",
       "</table>\n",
       "</div>"
      ],
      "text/plain": [
       "        nida  justin  aswin  sanjay\n",
       "ENG       45      99     55      67\n",
       "C         34      66     88      58\n",
       "PYTHON    34      88     45      87\n",
       "MATHS     44      33     77      55"
      ]
     },
     "execution_count": 211,
     "metadata": {},
     "output_type": "execute_result"
    }
   ],
   "source": [
    "df2"
   ]
  },
  {
   "cell_type": "code",
   "execution_count": 214,
   "id": "3f621bae",
   "metadata": {},
   "outputs": [],
   "source": [
    "df2['Average']=(df2['nida']+df2[\"justin\"]+df2[\"aswin\"]+df2[\"sanjay\"])/4"
   ]
  },
  {
   "cell_type": "code",
   "execution_count": 215,
   "id": "a0bc0379",
   "metadata": {},
   "outputs": [
    {
     "data": {
      "text/html": [
       "<div>\n",
       "<style scoped>\n",
       "    .dataframe tbody tr th:only-of-type {\n",
       "        vertical-align: middle;\n",
       "    }\n",
       "\n",
       "    .dataframe tbody tr th {\n",
       "        vertical-align: top;\n",
       "    }\n",
       "\n",
       "    .dataframe thead th {\n",
       "        text-align: right;\n",
       "    }\n",
       "</style>\n",
       "<table border=\"1\" class=\"dataframe\">\n",
       "  <thead>\n",
       "    <tr style=\"text-align: right;\">\n",
       "      <th></th>\n",
       "      <th>nida</th>\n",
       "      <th>justin</th>\n",
       "      <th>aswin</th>\n",
       "      <th>sanjay</th>\n",
       "      <th>Average</th>\n",
       "    </tr>\n",
       "  </thead>\n",
       "  <tbody>\n",
       "    <tr>\n",
       "      <th>ENG</th>\n",
       "      <td>45</td>\n",
       "      <td>99</td>\n",
       "      <td>55</td>\n",
       "      <td>67</td>\n",
       "      <td>66.50</td>\n",
       "    </tr>\n",
       "    <tr>\n",
       "      <th>C</th>\n",
       "      <td>34</td>\n",
       "      <td>66</td>\n",
       "      <td>88</td>\n",
       "      <td>58</td>\n",
       "      <td>61.50</td>\n",
       "    </tr>\n",
       "    <tr>\n",
       "      <th>PYTHON</th>\n",
       "      <td>34</td>\n",
       "      <td>88</td>\n",
       "      <td>45</td>\n",
       "      <td>87</td>\n",
       "      <td>63.50</td>\n",
       "    </tr>\n",
       "    <tr>\n",
       "      <th>MATHS</th>\n",
       "      <td>44</td>\n",
       "      <td>33</td>\n",
       "      <td>77</td>\n",
       "      <td>55</td>\n",
       "      <td>52.25</td>\n",
       "    </tr>\n",
       "  </tbody>\n",
       "</table>\n",
       "</div>"
      ],
      "text/plain": [
       "        nida  justin  aswin  sanjay  Average\n",
       "ENG       45      99     55      67    66.50\n",
       "C         34      66     88      58    61.50\n",
       "PYTHON    34      88     45      87    63.50\n",
       "MATHS     44      33     77      55    52.25"
      ]
     },
     "execution_count": 215,
     "metadata": {},
     "output_type": "execute_result"
    }
   ],
   "source": [
    "df2"
   ]
  },
  {
   "cell_type": "code",
   "execution_count": 218,
   "id": "dd0b5302",
   "metadata": {},
   "outputs": [
    {
     "data": {
      "text/html": [
       "<div>\n",
       "<style scoped>\n",
       "    .dataframe tbody tr th:only-of-type {\n",
       "        vertical-align: middle;\n",
       "    }\n",
       "\n",
       "    .dataframe tbody tr th {\n",
       "        vertical-align: top;\n",
       "    }\n",
       "\n",
       "    .dataframe thead th {\n",
       "        text-align: right;\n",
       "    }\n",
       "</style>\n",
       "<table border=\"1\" class=\"dataframe\">\n",
       "  <thead>\n",
       "    <tr style=\"text-align: right;\">\n",
       "      <th></th>\n",
       "      <th>nida</th>\n",
       "      <th>justin</th>\n",
       "      <th>aswin</th>\n",
       "      <th>sanjay</th>\n",
       "      <th>Average</th>\n",
       "    </tr>\n",
       "  </thead>\n",
       "  <tbody>\n",
       "    <tr>\n",
       "      <th>ENG</th>\n",
       "      <td>45</td>\n",
       "      <td>99</td>\n",
       "      <td>55</td>\n",
       "      <td>67</td>\n",
       "      <td>66.50</td>\n",
       "    </tr>\n",
       "    <tr>\n",
       "      <th>PYTHON</th>\n",
       "      <td>34</td>\n",
       "      <td>88</td>\n",
       "      <td>45</td>\n",
       "      <td>87</td>\n",
       "      <td>63.50</td>\n",
       "    </tr>\n",
       "    <tr>\n",
       "      <th>MATHS</th>\n",
       "      <td>44</td>\n",
       "      <td>33</td>\n",
       "      <td>77</td>\n",
       "      <td>55</td>\n",
       "      <td>52.25</td>\n",
       "    </tr>\n",
       "  </tbody>\n",
       "</table>\n",
       "</div>"
      ],
      "text/plain": [
       "        nida  justin  aswin  sanjay  Average\n",
       "ENG       45      99     55      67    66.50\n",
       "PYTHON    34      88     45      87    63.50\n",
       "MATHS     44      33     77      55    52.25"
      ]
     },
     "execution_count": 218,
     "metadata": {},
     "output_type": "execute_result"
    }
   ],
   "source": [
    "df2.drop('C')"
   ]
  },
  {
   "cell_type": "code",
   "execution_count": 219,
   "id": "7e6a54d3",
   "metadata": {},
   "outputs": [],
   "source": [
    "df2.drop(\"Average\",axis=1,inplace=True)"
   ]
  },
  {
   "cell_type": "code",
   "execution_count": 222,
   "id": "da2f52c1",
   "metadata": {},
   "outputs": [],
   "source": [
    "df3=df2.drop(\"nida\",axis=1)"
   ]
  },
  {
   "cell_type": "code",
   "execution_count": 223,
   "id": "ef805ac1",
   "metadata": {},
   "outputs": [
    {
     "data": {
      "text/html": [
       "<div>\n",
       "<style scoped>\n",
       "    .dataframe tbody tr th:only-of-type {\n",
       "        vertical-align: middle;\n",
       "    }\n",
       "\n",
       "    .dataframe tbody tr th {\n",
       "        vertical-align: top;\n",
       "    }\n",
       "\n",
       "    .dataframe thead th {\n",
       "        text-align: right;\n",
       "    }\n",
       "</style>\n",
       "<table border=\"1\" class=\"dataframe\">\n",
       "  <thead>\n",
       "    <tr style=\"text-align: right;\">\n",
       "      <th></th>\n",
       "      <th>justin</th>\n",
       "      <th>aswin</th>\n",
       "      <th>sanjay</th>\n",
       "    </tr>\n",
       "  </thead>\n",
       "  <tbody>\n",
       "    <tr>\n",
       "      <th>ENG</th>\n",
       "      <td>99</td>\n",
       "      <td>55</td>\n",
       "      <td>67</td>\n",
       "    </tr>\n",
       "    <tr>\n",
       "      <th>C</th>\n",
       "      <td>66</td>\n",
       "      <td>88</td>\n",
       "      <td>58</td>\n",
       "    </tr>\n",
       "    <tr>\n",
       "      <th>PYTHON</th>\n",
       "      <td>88</td>\n",
       "      <td>45</td>\n",
       "      <td>87</td>\n",
       "    </tr>\n",
       "    <tr>\n",
       "      <th>MATHS</th>\n",
       "      <td>33</td>\n",
       "      <td>77</td>\n",
       "      <td>55</td>\n",
       "    </tr>\n",
       "  </tbody>\n",
       "</table>\n",
       "</div>"
      ],
      "text/plain": [
       "        justin  aswin  sanjay\n",
       "ENG         99     55      67\n",
       "C           66     88      58\n",
       "PYTHON      88     45      87\n",
       "MATHS       33     77      55"
      ]
     },
     "execution_count": 223,
     "metadata": {},
     "output_type": "execute_result"
    }
   ],
   "source": [
    "df3"
   ]
  },
  {
   "cell_type": "code",
   "execution_count": 224,
   "id": "7ba94696",
   "metadata": {},
   "outputs": [],
   "source": [
    "df3.drop(\"aswin\",axis=1,inplace=True)"
   ]
  },
  {
   "cell_type": "code",
   "execution_count": 225,
   "id": "691f39cb",
   "metadata": {},
   "outputs": [
    {
     "data": {
      "text/html": [
       "<div>\n",
       "<style scoped>\n",
       "    .dataframe tbody tr th:only-of-type {\n",
       "        vertical-align: middle;\n",
       "    }\n",
       "\n",
       "    .dataframe tbody tr th {\n",
       "        vertical-align: top;\n",
       "    }\n",
       "\n",
       "    .dataframe thead th {\n",
       "        text-align: right;\n",
       "    }\n",
       "</style>\n",
       "<table border=\"1\" class=\"dataframe\">\n",
       "  <thead>\n",
       "    <tr style=\"text-align: right;\">\n",
       "      <th></th>\n",
       "      <th>justin</th>\n",
       "      <th>sanjay</th>\n",
       "    </tr>\n",
       "  </thead>\n",
       "  <tbody>\n",
       "    <tr>\n",
       "      <th>ENG</th>\n",
       "      <td>99</td>\n",
       "      <td>67</td>\n",
       "    </tr>\n",
       "    <tr>\n",
       "      <th>C</th>\n",
       "      <td>66</td>\n",
       "      <td>58</td>\n",
       "    </tr>\n",
       "    <tr>\n",
       "      <th>PYTHON</th>\n",
       "      <td>88</td>\n",
       "      <td>87</td>\n",
       "    </tr>\n",
       "    <tr>\n",
       "      <th>MATHS</th>\n",
       "      <td>33</td>\n",
       "      <td>55</td>\n",
       "    </tr>\n",
       "  </tbody>\n",
       "</table>\n",
       "</div>"
      ],
      "text/plain": [
       "        justin  sanjay\n",
       "ENG         99      67\n",
       "C           66      58\n",
       "PYTHON      88      87\n",
       "MATHS       33      55"
      ]
     },
     "execution_count": 225,
     "metadata": {},
     "output_type": "execute_result"
    }
   ],
   "source": [
    "df3"
   ]
  },
  {
   "cell_type": "code",
   "execution_count": null,
   "id": "ce07b69e",
   "metadata": {},
   "outputs": [],
   "source": []
  }
 ],
 "metadata": {
  "kernelspec": {
   "display_name": "Python 3 (ipykernel)",
   "language": "python",
   "name": "python3"
  },
  "language_info": {
   "codemirror_mode": {
    "name": "ipython",
    "version": 3
   },
   "file_extension": ".py",
   "mimetype": "text/x-python",
   "name": "python",
   "nbconvert_exporter": "python",
   "pygments_lexer": "ipython3",
   "version": "3.9.13"
  }
 },
 "nbformat": 4,
 "nbformat_minor": 5
}
